{
 "cells": [
  {
   "cell_type": "markdown",
   "metadata": {},
   "source": [
    "# Zoo Animal Classification\n",
    "### A database containing 18 attributes(15 of which are Boolean) in order to classify amongst 100 unique animals that are categorized into 7 Class Types including: Mammal, Bird, Reptile, Fish, Amphibian, Bug and Invertebrate. Acknowledgments:  UCI Machine Learning: https://archive.ics.uci.edu/ml/datasets/Zoo"
   ]
  },
  {
   "cell_type": "code",
   "execution_count": 2,
   "metadata": {},
   "outputs": [],
   "source": [
    "#import packages to be used for data analysis\n",
    "import pandas as pd\n",
    "import numpy as np\n",
    "import matplotlib.pyplot as plt\n",
    "%matplotlib inline\n",
    "import seaborn as sns\n",
    "from scipy.stats import zscore\n",
    "from mpl_toolkits.mplot3d import Axes3D\n",
    "sns.set()\n",
    "from warnings import simplefilter\n",
    "simplefilter(action='ignore')"
   ]
  },
  {
   "cell_type": "code",
   "execution_count": 3,
   "metadata": {},
   "outputs": [],
   "source": [
    "#read in first dataset into pandas\n",
    "df1 = pd.read_csv('zoo.csv')"
   ]
  },
  {
   "cell_type": "code",
   "execution_count": 4,
   "metadata": {},
   "outputs": [],
   "source": [
    "#read in second dataset into pandas\n",
    "df2 = pd.read_csv('class.csv')"
   ]
  },
  {
   "cell_type": "code",
   "execution_count": 5,
   "metadata": {},
   "outputs": [
    {
     "data": {
      "text/html": [
       "<div>\n",
       "<style scoped>\n",
       "    .dataframe tbody tr th:only-of-type {\n",
       "        vertical-align: middle;\n",
       "    }\n",
       "\n",
       "    .dataframe tbody tr th {\n",
       "        vertical-align: top;\n",
       "    }\n",
       "\n",
       "    .dataframe thead th {\n",
       "        text-align: right;\n",
       "    }\n",
       "</style>\n",
       "<table border=\"1\" class=\"dataframe\">\n",
       "  <thead>\n",
       "    <tr style=\"text-align: right;\">\n",
       "      <th></th>\n",
       "      <th>animal_name</th>\n",
       "      <th>hair</th>\n",
       "      <th>feathers</th>\n",
       "      <th>eggs</th>\n",
       "      <th>milk</th>\n",
       "      <th>airborne</th>\n",
       "      <th>aquatic</th>\n",
       "      <th>predator</th>\n",
       "      <th>toothed</th>\n",
       "      <th>backbone</th>\n",
       "      <th>breathes</th>\n",
       "      <th>venomous</th>\n",
       "      <th>fins</th>\n",
       "      <th>legs</th>\n",
       "      <th>tail</th>\n",
       "      <th>domestic</th>\n",
       "      <th>catsize</th>\n",
       "      <th>class_type</th>\n",
       "    </tr>\n",
       "  </thead>\n",
       "  <tbody>\n",
       "    <tr>\n",
       "      <th>0</th>\n",
       "      <td>aardvark</td>\n",
       "      <td>1</td>\n",
       "      <td>0</td>\n",
       "      <td>0</td>\n",
       "      <td>1</td>\n",
       "      <td>0</td>\n",
       "      <td>0</td>\n",
       "      <td>1</td>\n",
       "      <td>1</td>\n",
       "      <td>1</td>\n",
       "      <td>1</td>\n",
       "      <td>0</td>\n",
       "      <td>0</td>\n",
       "      <td>4</td>\n",
       "      <td>0</td>\n",
       "      <td>0</td>\n",
       "      <td>1</td>\n",
       "      <td>1</td>\n",
       "    </tr>\n",
       "    <tr>\n",
       "      <th>1</th>\n",
       "      <td>antelope</td>\n",
       "      <td>1</td>\n",
       "      <td>0</td>\n",
       "      <td>0</td>\n",
       "      <td>1</td>\n",
       "      <td>0</td>\n",
       "      <td>0</td>\n",
       "      <td>0</td>\n",
       "      <td>1</td>\n",
       "      <td>1</td>\n",
       "      <td>1</td>\n",
       "      <td>0</td>\n",
       "      <td>0</td>\n",
       "      <td>4</td>\n",
       "      <td>1</td>\n",
       "      <td>0</td>\n",
       "      <td>1</td>\n",
       "      <td>1</td>\n",
       "    </tr>\n",
       "    <tr>\n",
       "      <th>2</th>\n",
       "      <td>bass</td>\n",
       "      <td>0</td>\n",
       "      <td>0</td>\n",
       "      <td>1</td>\n",
       "      <td>0</td>\n",
       "      <td>0</td>\n",
       "      <td>1</td>\n",
       "      <td>1</td>\n",
       "      <td>1</td>\n",
       "      <td>1</td>\n",
       "      <td>0</td>\n",
       "      <td>0</td>\n",
       "      <td>1</td>\n",
       "      <td>0</td>\n",
       "      <td>1</td>\n",
       "      <td>0</td>\n",
       "      <td>0</td>\n",
       "      <td>4</td>\n",
       "    </tr>\n",
       "    <tr>\n",
       "      <th>3</th>\n",
       "      <td>bear</td>\n",
       "      <td>1</td>\n",
       "      <td>0</td>\n",
       "      <td>0</td>\n",
       "      <td>1</td>\n",
       "      <td>0</td>\n",
       "      <td>0</td>\n",
       "      <td>1</td>\n",
       "      <td>1</td>\n",
       "      <td>1</td>\n",
       "      <td>1</td>\n",
       "      <td>0</td>\n",
       "      <td>0</td>\n",
       "      <td>4</td>\n",
       "      <td>0</td>\n",
       "      <td>0</td>\n",
       "      <td>1</td>\n",
       "      <td>1</td>\n",
       "    </tr>\n",
       "    <tr>\n",
       "      <th>4</th>\n",
       "      <td>boar</td>\n",
       "      <td>1</td>\n",
       "      <td>0</td>\n",
       "      <td>0</td>\n",
       "      <td>1</td>\n",
       "      <td>0</td>\n",
       "      <td>0</td>\n",
       "      <td>1</td>\n",
       "      <td>1</td>\n",
       "      <td>1</td>\n",
       "      <td>1</td>\n",
       "      <td>0</td>\n",
       "      <td>0</td>\n",
       "      <td>4</td>\n",
       "      <td>1</td>\n",
       "      <td>0</td>\n",
       "      <td>1</td>\n",
       "      <td>1</td>\n",
       "    </tr>\n",
       "  </tbody>\n",
       "</table>\n",
       "</div>"
      ],
      "text/plain": [
       "  animal_name  hair  feathers  eggs  milk  airborne  aquatic  predator  \\\n",
       "0    aardvark     1         0     0     1         0        0         1   \n",
       "1    antelope     1         0     0     1         0        0         0   \n",
       "2        bass     0         0     1     0         0        1         1   \n",
       "3        bear     1         0     0     1         0        0         1   \n",
       "4        boar     1         0     0     1         0        0         1   \n",
       "\n",
       "   toothed  backbone  breathes  venomous  fins  legs  tail  domestic  catsize  \\\n",
       "0        1         1         1         0     0     4     0         0        1   \n",
       "1        1         1         1         0     0     4     1         0        1   \n",
       "2        1         1         0         0     1     0     1         0        0   \n",
       "3        1         1         1         0     0     4     0         0        1   \n",
       "4        1         1         1         0     0     4     1         0        1   \n",
       "\n",
       "   class_type  \n",
       "0           1  \n",
       "1           1  \n",
       "2           4  \n",
       "3           1  \n",
       "4           1  "
      ]
     },
     "execution_count": 5,
     "metadata": {},
     "output_type": "execute_result"
    }
   ],
   "source": [
    "#take a look at dataframe 1\n",
    "df1.head()"
   ]
  },
  {
   "cell_type": "code",
   "execution_count": 6,
   "metadata": {},
   "outputs": [
    {
     "data": {
      "text/html": [
       "<div>\n",
       "<style scoped>\n",
       "    .dataframe tbody tr th:only-of-type {\n",
       "        vertical-align: middle;\n",
       "    }\n",
       "\n",
       "    .dataframe tbody tr th {\n",
       "        vertical-align: top;\n",
       "    }\n",
       "\n",
       "    .dataframe thead th {\n",
       "        text-align: right;\n",
       "    }\n",
       "</style>\n",
       "<table border=\"1\" class=\"dataframe\">\n",
       "  <thead>\n",
       "    <tr style=\"text-align: right;\">\n",
       "      <th></th>\n",
       "      <th>Class_Number</th>\n",
       "      <th>Number_Of_Animal_Species_In_Class</th>\n",
       "      <th>Class_Type</th>\n",
       "      <th>Animal_Names</th>\n",
       "    </tr>\n",
       "  </thead>\n",
       "  <tbody>\n",
       "    <tr>\n",
       "      <th>0</th>\n",
       "      <td>1</td>\n",
       "      <td>40</td>\n",
       "      <td>Mammal</td>\n",
       "      <td>aardvark, antelope, bear, boar, buffalo, calf,...</td>\n",
       "    </tr>\n",
       "    <tr>\n",
       "      <th>1</th>\n",
       "      <td>2</td>\n",
       "      <td>20</td>\n",
       "      <td>Bird</td>\n",
       "      <td>chicken, crow, dove, duck, flamingo, gull, haw...</td>\n",
       "    </tr>\n",
       "    <tr>\n",
       "      <th>2</th>\n",
       "      <td>3</td>\n",
       "      <td>5</td>\n",
       "      <td>Reptile</td>\n",
       "      <td>pitviper, seasnake, slowworm, tortoise, tuatara</td>\n",
       "    </tr>\n",
       "    <tr>\n",
       "      <th>3</th>\n",
       "      <td>4</td>\n",
       "      <td>13</td>\n",
       "      <td>Fish</td>\n",
       "      <td>bass, carp, catfish, chub, dogfish, haddock, h...</td>\n",
       "    </tr>\n",
       "    <tr>\n",
       "      <th>4</th>\n",
       "      <td>5</td>\n",
       "      <td>4</td>\n",
       "      <td>Amphibian</td>\n",
       "      <td>frog, frog, newt, toad</td>\n",
       "    </tr>\n",
       "    <tr>\n",
       "      <th>5</th>\n",
       "      <td>6</td>\n",
       "      <td>8</td>\n",
       "      <td>Bug</td>\n",
       "      <td>flea, gnat, honeybee, housefly, ladybird, moth...</td>\n",
       "    </tr>\n",
       "    <tr>\n",
       "      <th>6</th>\n",
       "      <td>7</td>\n",
       "      <td>10</td>\n",
       "      <td>Invertebrate</td>\n",
       "      <td>clam, crab, crayfish, lobster, octopus, scorpi...</td>\n",
       "    </tr>\n",
       "  </tbody>\n",
       "</table>\n",
       "</div>"
      ],
      "text/plain": [
       "   Class_Number  Number_Of_Animal_Species_In_Class    Class_Type  \\\n",
       "0             1                                 40        Mammal   \n",
       "1             2                                 20          Bird   \n",
       "2             3                                  5       Reptile   \n",
       "3             4                                 13          Fish   \n",
       "4             5                                  4     Amphibian   \n",
       "5             6                                  8           Bug   \n",
       "6             7                                 10  Invertebrate   \n",
       "\n",
       "                                        Animal_Names  \n",
       "0  aardvark, antelope, bear, boar, buffalo, calf,...  \n",
       "1  chicken, crow, dove, duck, flamingo, gull, haw...  \n",
       "2    pitviper, seasnake, slowworm, tortoise, tuatara  \n",
       "3  bass, carp, catfish, chub, dogfish, haddock, h...  \n",
       "4                             frog, frog, newt, toad  \n",
       "5  flea, gnat, honeybee, housefly, ladybird, moth...  \n",
       "6  clam, crab, crayfish, lobster, octopus, scorpi...  "
      ]
     },
     "execution_count": 6,
     "metadata": {},
     "output_type": "execute_result"
    }
   ],
   "source": [
    "#take a look at dataframe 2\n",
    "df2.loc[0, 'Number_Of_Animal_Species_In_Class'] = 40\n",
    "df2"
   ]
  },
  {
   "cell_type": "code",
   "execution_count": 7,
   "metadata": {},
   "outputs": [
    {
     "data": {
      "text/plain": [
       "Index(['animal_name', 'hair', 'feathers', 'eggs', 'milk', 'airborne',\n",
       "       'aquatic', 'predator', 'toothed', 'backbone', 'breathes', 'venomous',\n",
       "       'fins', 'legs', 'tail', 'domestic', 'catsize', 'class_type'],\n",
       "      dtype='object')"
      ]
     },
     "execution_count": 7,
     "metadata": {},
     "output_type": "execute_result"
    }
   ],
   "source": [
    "#view dataframe 1 column names\n",
    "df1.columns"
   ]
  },
  {
   "cell_type": "code",
   "execution_count": 8,
   "metadata": {},
   "outputs": [
    {
     "data": {
      "text/plain": [
       "Index(['Class_Number', 'Number_Of_Animal_Species_In_Class', 'Class_Type',\n",
       "       'Animal_Names'],\n",
       "      dtype='object')"
      ]
     },
     "execution_count": 8,
     "metadata": {},
     "output_type": "execute_result"
    }
   ],
   "source": [
    "#view dataframe 2 column names\n",
    "df2.columns"
   ]
  },
  {
   "cell_type": "code",
   "execution_count": 9,
   "metadata": {},
   "outputs": [
    {
     "name": "stdout",
     "output_type": "stream",
     "text": [
      "(101, 18)\n",
      "(7, 4)\n"
     ]
    }
   ],
   "source": [
    "#take a look at shapes\n",
    "print(df1.shape)\n",
    "print(df2.shape)"
   ]
  },
  {
   "cell_type": "code",
   "execution_count": 10,
   "metadata": {},
   "outputs": [
    {
     "name": "stdout",
     "output_type": "stream",
     "text": [
      "<class 'pandas.core.frame.DataFrame'>\n",
      "RangeIndex: 101 entries, 0 to 100\n",
      "Data columns (total 18 columns):\n",
      "animal_name    101 non-null object\n",
      "hair           101 non-null int64\n",
      "feathers       101 non-null int64\n",
      "eggs           101 non-null int64\n",
      "milk           101 non-null int64\n",
      "airborne       101 non-null int64\n",
      "aquatic        101 non-null int64\n",
      "predator       101 non-null int64\n",
      "toothed        101 non-null int64\n",
      "backbone       101 non-null int64\n",
      "breathes       101 non-null int64\n",
      "venomous       101 non-null int64\n",
      "fins           101 non-null int64\n",
      "legs           101 non-null int64\n",
      "tail           101 non-null int64\n",
      "domestic       101 non-null int64\n",
      "catsize        101 non-null int64\n",
      "class_type     101 non-null int64\n",
      "dtypes: int64(17), object(1)\n",
      "memory usage: 14.3+ KB\n"
     ]
    }
   ],
   "source": [
    "#take a look at properties of df1\n",
    "df1.info()"
   ]
  },
  {
   "cell_type": "code",
   "execution_count": 11,
   "metadata": {},
   "outputs": [
    {
     "name": "stdout",
     "output_type": "stream",
     "text": [
      "<class 'pandas.core.frame.DataFrame'>\n",
      "RangeIndex: 7 entries, 0 to 6\n",
      "Data columns (total 4 columns):\n",
      "Class_Number                         7 non-null int64\n",
      "Number_Of_Animal_Species_In_Class    7 non-null int64\n",
      "Class_Type                           7 non-null object\n",
      "Animal_Names                         7 non-null object\n",
      "dtypes: int64(2), object(2)\n",
      "memory usage: 304.0+ bytes\n"
     ]
    }
   ],
   "source": [
    "#take a look at properties of df2\n",
    "df2.info()"
   ]
  },
  {
   "cell_type": "code",
   "execution_count": 12,
   "metadata": {},
   "outputs": [
    {
     "data": {
      "text/plain": [
       "animal_name    0\n",
       "hair           0\n",
       "feathers       0\n",
       "eggs           0\n",
       "milk           0\n",
       "airborne       0\n",
       "aquatic        0\n",
       "predator       0\n",
       "toothed        0\n",
       "backbone       0\n",
       "breathes       0\n",
       "venomous       0\n",
       "fins           0\n",
       "legs           0\n",
       "tail           0\n",
       "domestic       0\n",
       "catsize        0\n",
       "class_type     0\n",
       "dtype: int64"
      ]
     },
     "execution_count": 12,
     "metadata": {},
     "output_type": "execute_result"
    }
   ],
   "source": [
    "#check for missing values in dataframe 1\n",
    "df1.isnull().sum()"
   ]
  },
  {
   "cell_type": "code",
   "execution_count": 13,
   "metadata": {},
   "outputs": [
    {
     "data": {
      "text/plain": [
       "Class_Number                         0\n",
       "Number_Of_Animal_Species_In_Class    0\n",
       "Class_Type                           0\n",
       "Animal_Names                         0\n",
       "dtype: int64"
      ]
     },
     "execution_count": 13,
     "metadata": {},
     "output_type": "execute_result"
    }
   ],
   "source": [
    "#check for missing values in dataframe 2\n",
    "df2.isnull().sum()"
   ]
  },
  {
   "cell_type": "code",
   "execution_count": 14,
   "metadata": {},
   "outputs": [],
   "source": [
    "#rename column 'class_type' to be 'Class_Number' in order to merge\n",
    "new_columns = df1.columns.values\n",
    "new_columns[17] = 'Class_Number'\n",
    "df1.columns = new_columns"
   ]
  },
  {
   "cell_type": "code",
   "execution_count": 15,
   "metadata": {},
   "outputs": [
    {
     "data": {
      "text/plain": [
       "Index(['animal_name', 'hair', 'feathers', 'eggs', 'milk', 'airborne',\n",
       "       'aquatic', 'predator', 'toothed', 'backbone', 'breathes', 'venomous',\n",
       "       'fins', 'legs', 'tail', 'domestic', 'catsize', 'Class_Number'],\n",
       "      dtype='object')"
      ]
     },
     "execution_count": 15,
     "metadata": {},
     "output_type": "execute_result"
    }
   ],
   "source": [
    "#recheck df1 column names\n",
    "df1.columns"
   ]
  },
  {
   "cell_type": "code",
   "execution_count": 16,
   "metadata": {},
   "outputs": [
    {
     "data": {
      "text/plain": [
       "(100, 21)"
      ]
     },
     "execution_count": 16,
     "metadata": {},
     "output_type": "execute_result"
    }
   ],
   "source": [
    "#merge both datasets on common column, also drop 'girl' row \n",
    "df = pd.merge(df1, df2, on='Class_Number')\n",
    "df = df[df.animal_name != 'girl']\n",
    "df.shape"
   ]
  },
  {
   "cell_type": "code",
   "execution_count": 17,
   "metadata": {},
   "outputs": [
    {
     "data": {
      "text/plain": [
       "Index(['animal_name', 'hair', 'feathers', 'eggs', 'milk', 'airborne',\n",
       "       'aquatic', 'predator', 'toothed', 'backbone', 'breathes', 'venomous',\n",
       "       'fins', 'legs', 'tail', 'domestic', 'catsize', 'Class_Number',\n",
       "       'Number_Of_Animal_Species_In_Class', 'Class_Type', 'Animal_Names'],\n",
       "      dtype='object')"
      ]
     },
     "execution_count": 17,
     "metadata": {},
     "output_type": "execute_result"
    }
   ],
   "source": [
    "#check new dataframe column names\n",
    "df.columns"
   ]
  },
  {
   "cell_type": "code",
   "execution_count": 18,
   "metadata": {},
   "outputs": [
    {
     "data": {
      "text/plain": [
       "animal_name                          0\n",
       "hair                                 0\n",
       "feathers                             0\n",
       "eggs                                 0\n",
       "milk                                 0\n",
       "airborne                             0\n",
       "aquatic                              0\n",
       "predator                             0\n",
       "toothed                              0\n",
       "backbone                             0\n",
       "breathes                             0\n",
       "venomous                             0\n",
       "fins                                 0\n",
       "legs                                 0\n",
       "tail                                 0\n",
       "domestic                             0\n",
       "catsize                              0\n",
       "Class_Number                         0\n",
       "Number_Of_Animal_Species_In_Class    0\n",
       "Class_Type                           0\n",
       "Animal_Names                         0\n",
       "dtype: int64"
      ]
     },
     "execution_count": 18,
     "metadata": {},
     "output_type": "execute_result"
    }
   ],
   "source": [
    "#check that new dataframe has no missing values\n",
    "df.isnull().sum()"
   ]
  },
  {
   "cell_type": "code",
   "execution_count": 19,
   "metadata": {},
   "outputs": [
    {
     "data": {
      "text/plain": [
       "99"
      ]
     },
     "execution_count": 19,
     "metadata": {},
     "output_type": "execute_result"
    }
   ],
   "source": [
    "#take a look at animal_name column and sort out unique values to see if data is repeated\n",
    "all_animal_names = df['animal_name'].unique()\n",
    "np.sort(all_animal_names)\n",
    "len(all_animal_names)"
   ]
  },
  {
   "cell_type": "markdown",
   "metadata": {},
   "source": [
    "### There are 99 unique animal names out of 100. Frog is repeated twice since one frog is listed as venemous and the other frog is listed as not venemous. "
   ]
  },
  {
   "cell_type": "code",
   "execution_count": 21,
   "metadata": {},
   "outputs": [
    {
     "data": {
      "text/plain": [
       "<matplotlib.axes._subplots.AxesSubplot at 0x13dd02c81d0>"
      ]
     },
     "execution_count": 21,
     "metadata": {},
     "output_type": "execute_result"
    },
    {
     "data": {
      "image/png": "[encoded data removed]",
      "text/plain": [
       "<Figure size 720x576 with 2 Axes>"
      ]
     },
     "metadata": {},
     "output_type": "display_data"
    }
   ],
   "source": [
    "#look for trends/correlations by plotting a correlation heatmap\n",
    "plt.subplots(figsize=(10,8))\n",
    "ax = plt.axes()\n",
    "ax.set_title(\"CORRELATION_HEAT_MAP\")\n",
    "corr = df.corr()\n",
    "sns.heatmap(corr, annot=True, xticklabels=corr.columns.values, yticklabels=corr.columns.values)"
   ]
  },
  {
   "cell_type": "markdown",
   "metadata": {},
   "source": [
    "### TRENDS SEEN: 1.)High correlation between teeth and backbone which, according to research, is due to the \"Teeth being formed from the neural tube which is the embryonic tissue that becomes part of the brain and spinal cord.[2]\"\n",
    "### 2.)High correlation between aquatic and fins.\n",
    "### 3.)High correlation between tail and backbone which according to Carnegie Museum of Natural History[3], is because \"the tail is part of the caudal vertebra\".\n",
    "### 4.)Low correlation between domestic animals and predators.\n",
    "### 5.)Finally, there is a high correlation between breathing and animals with hair. Whereas, there is a negative correlation between breathing atmospheric air and animals that have fins and also between breathing atmospheric air and animals that are aquatic.  This makes sense since gills, used by fish to breathe, collapse out of water.  "
   ]
  },
  {
   "cell_type": "code",
   "execution_count": 22,
   "metadata": {},
   "outputs": [
    {
     "data": {
      "text/plain": [
       "<matplotlib.axes._subplots.AxesSubplot at 0x13dd1ae9f28>"
      ]
     },
     "execution_count": 22,
     "metadata": {},
     "output_type": "execute_result"
    },
    {
     "data": {
      "image/png": "[encoded data removed]",
      "text/plain": [
       "<Figure size 432x288 with 1 Axes>"
      ]
     },
     "metadata": {},
     "output_type": "display_data"
    }
   ],
   "source": [
    "#plot the number of animals in each class number\n",
    "sns.countplot(x='Class_Type', data=df, hue='Class_Number')"
   ]
  },
  {
   "cell_type": "markdown",
   "metadata": {},
   "source": [
    "### Majority of animals are in class number 1(mammals) and include: aardvarks, antelopes, bears, and boars-just to name a few. "
   ]
  },
  {
   "cell_type": "code",
   "execution_count": 23,
   "metadata": {},
   "outputs": [],
   "source": [
    "#since tail is a python function, change the column name to tails\n",
    "new_columns = df.columns.values\n",
    "new_columns[14] = 'tails'\n",
    "df.columns = new_columns\n",
    "new_columns1 = df1.columns.values\n",
    "new_columns1[14] = 'tails'\n",
    "df1.columns = new_columns1"
   ]
  },
  {
   "cell_type": "code",
   "execution_count": 24,
   "metadata": {},
   "outputs": [
    {
     "name": "stdout",
     "output_type": "stream",
     "text": [
      "number of animals without a tail: 25\n",
      "number of animals with a tail: 75\n",
      "Class_Number\n",
      "1    35\n",
      "2    20\n",
      "3     5\n",
      "4    13\n",
      "5     1\n",
      "6     0\n",
      "7     1\n",
      "Name: tails, dtype: int64\n"
     ]
    },
    {
     "data": {
      "text/plain": [
       "Class_Number\n",
       "1    40\n",
       "2    20\n",
       "3     5\n",
       "4    13\n",
       "5     4\n",
       "6     8\n",
       "7    10\n",
       "Name: Number_Of_Animal_Species_In_Class, dtype: int64"
      ]
     },
     "execution_count": 24,
     "metadata": {},
     "output_type": "execute_result"
    }
   ],
   "source": [
    "#take a look at how many animals have tails and in which class number\n",
    "no_tails = df[df.tails==0]\n",
    "print(\"number of animals without a tail:\", len(no_tails))\n",
    "print(\"number of animals with a tail:\", 100 - len(no_tails))\n",
    "print(df1.groupby('Class_Number').tails.sum())\n",
    "df2.groupby('Class_Number').Number_Of_Animal_Species_In_Class.sum()"
   ]
  },
  {
   "cell_type": "code",
   "execution_count": 25,
   "metadata": {},
   "outputs": [
    {
     "data": {
      "text/plain": [
       "Text(0.5,1,'CLASS 1=MAMMAL, CLASS 2=BIRD, CLASS 3=REPTILE, CLASS 4=FISH, CLASS 5=AMPHIBIAN, CLASS 6=BUG, CLASS 7=INVERTEBRAE')"
      ]
     },
     "execution_count": 25,
     "metadata": {},
     "output_type": "execute_result"
    },
    {
     "data": {
      "image/png": "[encoded data removed]",
      "text/plain": [
       "<Figure size 432x288 with 1 Axes>"
      ]
     },
     "metadata": {},
     "output_type": "display_data"
    }
   ],
   "source": [
    "#perform groupby between class number and animals with tails\n",
    "df.groupby('Class_Number').tails.sum().plot(kind='bar')\n",
    "plt.xlabel('CLASS_NUMBERS_WITH_A_TAIL')\n",
    "plt.ylabel('FREQUENCY')\n",
    "plt.title('CLASS 1=MAMMAL, CLASS 2=BIRD, CLASS 3=REPTILE, CLASS 4=FISH, CLASS 5=AMPHIBIAN, CLASS 6=BUG, CLASS 7=INVERTEBRAE')"
   ]
  },
  {
   "cell_type": "markdown",
   "metadata": {},
   "source": [
    "### The bar plot above shows that 75% of all animals in the dataset have tails, and 50% of those 75% are mammals(Class 1). According to the bar plot, none of the bugs(Class 6) have tails and very few amphibians and invertebrates(Class 5 & 7) have tails. The graph also shows that Birds, Reptiles and Fish(Classes 2, 3 & 4) all have tails. Since only one class of animals, bugs, which consists of only 8 out of the total 100 animals, were found to not have tails, it is plausible that tails may not be the strongest classification feature."
   ]
  },
  {
   "cell_type": "code",
   "execution_count": 86,
   "metadata": {},
   "outputs": [
    {
     "data": {
      "image/png": "[encoded data removed]",
      "text/plain": [
       "<Figure size 432x288 with 1 Axes>"
      ]
     },
     "metadata": {},
     "output_type": "display_data"
    }
   ],
   "source": [
    "#plot pie chart showing percentage of animals without a tail\n",
    "labels = 'CLASS_1(mammal)','CLASS_5(amphibian)','CLASS_6(bug)','CLASS_7(invertebrae)'\n",
    "sizes = [20, 12, 32, 36]\n",
    "fig1, ax1 = plt.subplots()\n",
    "ax1.pie(sizes, labels=labels)\n",
    "ax1.axis('equal')\n",
    "plt.title(\"CLASS_PERCENTAGE_WITHOUT_TAIL\")\n",
    "plt.show()"
   ]
  },
  {
   "cell_type": "markdown",
   "metadata": {},
   "source": [
    "### Since there was a 0.75 correlation on the heatmap between animals having a backbone and having a tail, there is a possibility that animals without a backbone are correlated with not having a tail.  The pie chart above shows this exact finding and also shows that the highest percentage of animals without a backbone are invertebrates which makes sense."
   ]
  },
  {
   "cell_type": "code",
   "execution_count": 27,
   "metadata": {},
   "outputs": [
    {
     "data": {
      "image/png": "[encoded data removed]",
      "text/plain": [
       "<Figure size 432x288 with 1 Axes>"
      ]
     },
     "metadata": {},
     "output_type": "display_data"
    }
   ],
   "source": [
    "#after merging df1 into df2 take a look at trends with a 3D scatter plot\n",
    "from mpl_toolkits.mplot3d import Axes3D\n",
    "fig = plt.figure()\n",
    "ax = fig.add_subplot(111, projection='3d')\n",
    "x = df['Class_Number']\n",
    "yy = df['Number_Of_Animal_Species_In_Class']\n",
    "z = df.backbone==0\n",
    "xb = df['Class_Number']\n",
    "yyb = df['Number_Of_Animal_Species_In_Class']\n",
    "zb = df.backbone==1\n",
    "scatter1 = ax.scatter(x, yy, z, c='r', marker='o')\n",
    "scatter2 = ax.scatter(xb, yyb, zb, c='b', marker='^')\n",
    "ax.set_xlabel('Animal_Class_Number')\n",
    "ax.set_ylabel(\"No_of_Species_in_Class\")\n",
    "ax.set_zlabel(\"Animal_with_Backbone\")\n",
    "ax.legend([scatter1,scatter2], ['animals_without_backbone','animals_with_backbone'])\n",
    "plt.show()"
   ]
  },
  {
   "cell_type": "code",
   "execution_count": 28,
   "metadata": {},
   "outputs": [
    {
     "name": "stdout",
     "output_type": "stream",
     "text": [
      "Class_Number\n",
      "1    41\n",
      "2    20\n",
      "3     5\n",
      "4    13\n",
      "5     4\n",
      "6     0\n",
      "7     0\n",
      "Name: backbone, dtype: int64\n"
     ]
    }
   ],
   "source": [
    "print(df1.groupby('Class_Number').backbone.sum())"
   ]
  },
  {
   "cell_type": "markdown",
   "metadata": {},
   "source": [
    "### The 3D scatterplot above shows that all animals in class 1, 2, 3 ,4  and 5 have a backbone.  The scatter plot also shows that none of the animals in classes 6&7 have a backbone which makes sense since those classes include invertebrates and bugs.  Based on the scatter plot findings, backbone may not be the strongest feature for animal classification."
   ]
  },
  {
   "cell_type": "code",
   "execution_count": 29,
   "metadata": {},
   "outputs": [
    {
     "data": {
      "image/png": "[encoded data removed]",
      "text/plain": [
       "<Figure size 432x288 with 1 Axes>"
      ]
     },
     "metadata": {},
     "output_type": "display_data"
    }
   ],
   "source": [
    "#take closer look at the trends seen on the correlation heatmap w/a 3d histogram\n",
    "from mpl_toolkits.mplot3d import Axes3D\n",
    "from matplotlib import style\n",
    "\n",
    "fig = plt.figure()\n",
    "ax = fig.add_subplot(111,projection='3d')\n",
    "x = df['backbone']\n",
    "y = df['toothed']\n",
    "\n",
    "hist, xedges, yedges, = np.histogram2d(x,y,bins=(4,4))\n",
    "xpos, ypos = np.meshgrid(xedges[:1]+xedges[1:],yedges[:-1]+yedges[1:])\n",
    "xpos = xpos.flatten()/2.\n",
    "ypos = ypos.flatten()/2.\n",
    "zpos = np.zeros_like (xpos)\n",
    "dx = xedges [1] - xedges[0]\n",
    "dy = yedges [1] - yedges[1]\n",
    "dz = hist.flatten()\n",
    "\n",
    "ax.bar3d(xpos, ypos, zpos,dx, dy, dz, color='b', zsort='average')\n",
    "plt.xlabel('Animal_With_Backbone')\n",
    "plt.ylabel(\"Has_Teeth\")\n",
    "\n",
    "plt.show()"
   ]
  },
  {
   "cell_type": "markdown",
   "metadata": {},
   "source": [
    "### The 3D histogram above agrees with the correlation heatmap finding of there being a strong correlation between animals having a backbone and having teeth.  The histogram shows that the reason the correlation is only 0.6 and not greater, could be due to the fact that there are animals without a backbone having teeth.  "
   ]
  },
  {
   "cell_type": "code",
   "execution_count": 30,
   "metadata": {},
   "outputs": [
    {
     "data": {
      "text/plain": [
       "<matplotlib.axes._subplots.AxesSubplot at 0x13dd1950630>"
      ]
     },
     "execution_count": 30,
     "metadata": {},
     "output_type": "execute_result"
    },
    {
     "data": {
      "image/png": "[encoded data removed]",
      "text/plain": [
       "<Figure size 432x288 with 1 Axes>"
      ]
     },
     "metadata": {},
     "output_type": "display_data"
    }
   ],
   "source": [
    "#scatterplot of correlation between predator and airborne and animal class\n",
    "sns.scatterplot( x = 'predator',y = 'Class_Number', data = df, hue = 'airborne')"
   ]
  },
  {
   "cell_type": "markdown",
   "metadata": {},
   "source": [
    "### The correlation heatmap showed a negative correlation between animals that are predators and animals that are airborne.The scatterplot above validates this heatmap finding by showing that the majority of predators are not airborne. It also shows that predators may not be the strongest feature in animal classification.  "
   ]
  },
  {
   "cell_type": "code",
   "execution_count": 31,
   "metadata": {
    "scrolled": true
   },
   "outputs": [
    {
     "data": {
      "image/png": "[encoded data removed]",
      "text/plain": [
       "<Figure size 432x288 with 1 Axes>"
      ]
     },
     "metadata": {},
     "output_type": "display_data"
    }
   ],
   "source": [
    "#plot which class of animals falls within the category of domestic\n",
    "x_cols = ['hair', 'feathers', 'eggs', 'milk', 'airborne',\n",
    "       'aquatic', 'predator', 'toothed', 'backbone', 'breathes', 'venomous',\n",
    "       'fins', 'legs', 'tails', 'domestic', 'catsize']\n",
    "X_cols = df[x_cols]\n",
    "y = df['Class_Number'].values\n",
    "dom = X_cols['domestic'].values\n",
    "sns.scatterplot(x = 'domestic', y = 'Class_Number', data = df, hue = 'aquatic')\n",
    "plt.show()"
   ]
  },
  {
   "cell_type": "markdown",
   "metadata": {},
   "source": [
    "### According to the correlation heatmap, the attribute domestic had a low correlation with all of the other attributes. The scatterplot above shows that domestic animals fall in the classes of 1, 2, 4 and 6 which corresponds to: mammals, birds, fish and bugs respectively. The scatterplot also shows that all of the classes contain animals that are not domestic.  This may explain why domestic has such a low correlation with all of the other attributes.  The scatterplot also shows that the only domestic animals that are aquatic are class 4(fish) which makes sense. In conclusion, the scatterplot indicates that domestic may not be the strongest feature in animal classification. "
   ]
  },
  {
   "cell_type": "code",
   "execution_count": 32,
   "metadata": {},
   "outputs": [
    {
     "data": {
      "image/png": "[encoded data removed]",
      "text/plain": [
       "<Figure size 432x288 with 1 Axes>"
      ]
     },
     "metadata": {},
     "output_type": "display_data"
    }
   ],
   "source": [
    "#plot trends between aquatic animals,class number and animals with fins\n",
    "sns.scatterplot(x = 'aquatic', y = 'Class_Number', data = df, hue = 'fins')\n",
    "plt.show()"
   ]
  },
  {
   "cell_type": "markdown",
   "metadata": {},
   "source": [
    "### The scatterplot above shows that finned animals belong to classes 1 & 2(mammals and fish) which makes sense.The scatterplot also shows that 6 out of the 7 total classes include  animals that are aquatic and that 5 out of the 7 total classes include animals that are not aquatic.  This agrees with the low correlation on the heatmap and indicates that aquatic may also not be the strongest feature for animal classification. "
   ]
  },
  {
   "cell_type": "code",
   "execution_count": 33,
   "metadata": {},
   "outputs": [
    {
     "name": "stdout",
     "output_type": "stream",
     "text": [
      "number of total venomous animals: 8\n"
     ]
    },
    {
     "data": {
      "text/plain": [
       "Class_Number\n",
       "1    0\n",
       "2    0\n",
       "3    2\n",
       "4    1\n",
       "5    1\n",
       "6    2\n",
       "7    2\n",
       "Name: venomous, dtype: int64"
      ]
     },
     "execution_count": 33,
     "metadata": {},
     "output_type": "execute_result"
    }
   ],
   "source": [
    "#identify how many venomous animals are in each class\n",
    "ven = df[df.venomous==1]\n",
    "print(\"number of total venomous animals:\", len(ven))\n",
    "df.groupby('Class_Number').venomous.sum()"
   ]
  },
  {
   "cell_type": "code",
   "execution_count": 34,
   "metadata": {},
   "outputs": [
    {
     "data": {
      "text/plain": [
       "<matplotlib.axes._subplots.AxesSubplot at 0x13dd1f746d8>"
      ]
     },
     "execution_count": 34,
     "metadata": {},
     "output_type": "execute_result"
    },
    {
     "data": {
      "image/png": "[encoded data removed]",
      "text/plain": [
       "<Figure size 432x288 with 1 Axes>"
      ]
     },
     "metadata": {},
     "output_type": "display_data"
    }
   ],
   "source": [
    "#perform groupby between venomous animals and class number\n",
    "df.groupby('Class_Number').venomous.sum().plot(kind='bar')"
   ]
  },
  {
   "cell_type": "markdown",
   "metadata": {},
   "source": [
    "###  The barplot above shows that there are no venomous animals in classes 1 &2(mammals and fish).  It also shows that the majority of venomous animals are in classes 3, 6 and 7(reptiles, bugs and invertebrates).  The bar plot shows that the attribute venomous may not be the strongest feature in animal classification."
   ]
  },
  {
   "cell_type": "markdown",
   "metadata": {},
   "source": [
    "### In conclusion, data exploration and visualization findings showed that the following features may not be the strongest predictors of animal class: 1.)domestic, 2.)tails, 3.)aquatic, 4.)backbone, 5.)venomous and 6.)predator."
   ]
  },
  {
   "cell_type": "markdown",
   "metadata": {},
   "source": [
    "## Hypothesis Testing #1: \n",
    "### null hypothesis: animals that can breathe that have fins - animals that can't breathe that have fins = 0\n",
    "### alt hypothesis:  animals that can breathe that have fins - animals that can't breathe that have fins != 0"
   ]
  },
  {
   "cell_type": "code",
   "execution_count": 35,
   "metadata": {},
   "outputs": [
    {
     "name": "stdout",
     "output_type": "stream",
     "text": [
      "animals that breathe with fins: 4\n",
      "animals that don't breathe with fins: 13\n",
      "number of breathing animals: 79\n",
      "number of non-breathing animals: 21\n",
      "number of finned animals: 79\n",
      "number of non-finned animals: 21\n"
     ]
    }
   ],
   "source": [
    "print(\"animals that breathe with fins:\", sum(df[df.breathes==1].fins))\n",
    "print(\"animals that don't breathe with fins:\", sum(df[df.breathes==0].fins))\n",
    "resp = df[df.breathes == 1]\n",
    "print(\"number of breathing animals:\", len(resp))\n",
    "no_resp = df[df.breathes == 0] \n",
    "print(\"number of non-breathing animals:\",len(no_resp))\n",
    "fin = df[df.fins == 1]\n",
    "print(\"number of finned animals:\", len(resp))\n",
    "no_fin = df[df.fins == 0] \n",
    "print(\"number of non-finned animals:\",len(no_resp))"
   ]
  },
  {
   "cell_type": "code",
   "execution_count": 36,
   "metadata": {},
   "outputs": [
    {
     "name": "stdout",
     "output_type": "stream",
     "text": [
      "z: -7.748207643475683 , pval: 9.319865314417025e-15\n"
     ]
    }
   ],
   "source": [
    "from statsmodels.stats.weightstats import ztest\n",
    "z, pval = ztest(resp['fins'],no_resp['fins'], alternative='two-sided')\n",
    "print('z: {} , pval: {}'.format(z, pval))"
   ]
  },
  {
   "cell_type": "markdown",
   "metadata": {},
   "source": [
    "### Since the p-value is greater than 0.05, we fail to reject the null hypothesis that there's no statistical difference.  In other words, there's no statistical difference between animals that can breathe with fins and animals that can't breathe with fins.  This statistical conclusion makes sense since our correlation heatmap showed a strong negative correlation between animals that can breathe atmospheric air and animals having fins.  "
   ]
  },
  {
   "cell_type": "markdown",
   "metadata": {},
   "source": [
    "## Hypothesis Testing #2: \n",
    "### null hypothesis: animals that are domestic that are predators - animals that are not domestic that are predators = 0\n",
    "### alt hypothesis: animals that are domestic that are predators - animals that are not domestic that are predators  != 0"
   ]
  },
  {
   "cell_type": "code",
   "execution_count": 37,
   "metadata": {},
   "outputs": [
    {
     "name": "stdout",
     "output_type": "stream",
     "text": [
      "animals that are domestic that are predators: 1\n",
      "animals that are not domestic that are predators: 54\n",
      "number of domestic animals: 12\n",
      "number of non-domestic animals: 88\n",
      "number of predators: 55\n",
      "number of non-predator animals: 45\n"
     ]
    }
   ],
   "source": [
    "print(\"animals that are domestic that are predators:\", sum(df[df.domestic==1].predator))\n",
    "print(\"animals that are not domestic that are predators:\", sum(df[df.domestic==0].predator))\n",
    "dome = df[df.domestic == 1]\n",
    "print(\"number of domestic animals:\", len(dome))\n",
    "no_dome = df[df.domestic == 0] \n",
    "print(\"number of non-domestic animals:\",len(no_dome))\n",
    "pred = df[df.predator == 1]\n",
    "print(\"number of predators:\", len(pred))\n",
    "no_pred = df[df.predator == 0] \n",
    "print(\"number of non-predator animals:\",len(no_pred))"
   ]
  },
  {
   "cell_type": "code",
   "execution_count": 38,
   "metadata": {},
   "outputs": [
    {
     "name": "stdout",
     "output_type": "stream",
     "text": [
      "z: -3.6554188483020296 , pval: 0.0002567624228369451\n"
     ]
    }
   ],
   "source": [
    "z, pval = ztest(dome['predator'],no_dome['predator'], alternative='two-sided')\n",
    "print('z: {} , pval: {}'.format(z, pval))"
   ]
  },
  {
   "cell_type": "markdown",
   "metadata": {},
   "source": [
    "### Since the p-value is less than 0.05, we reject the null hypothesis and conclude that there is a statistical difference between domestic animals that are predators and non-domestic animals that are predators.  This statistical conclusion makes sense since our correlation heatmap showed a low correlation between domestic and predator. This also agrees with the scatterplot finding that the attribute domestic may not be the strongest feature in animal classification."
   ]
  },
  {
   "cell_type": "markdown",
   "metadata": {},
   "source": [
    "### Supervised machine learning classification algorithms will be utilized in this project since the response being predicted, animal class, is categorical and the values are finite. Scikit-learn has the following requirements which will need to be validated first: 1.)features and response are separate objects 2.) features and response are numeric 3.)features and response are numpy arrays 4.)features and response have specific shapes. "
   ]
  },
  {
   "cell_type": "code",
   "execution_count": 39,
   "metadata": {},
   "outputs": [
    {
     "name": "stdout",
     "output_type": "stream",
     "text": [
      "<class 'numpy.ndarray'>\n",
      "(100, 16)\n"
     ]
    }
   ],
   "source": [
    "#remove non-numeric columns;insure numpy array\n",
    "x_cols = ['hair', 'feathers', 'eggs', 'milk', 'airborne',\n",
    "       'aquatic', 'predator', 'toothed', 'backbone', 'breathes', 'venomous',\n",
    "       'fins', 'legs', 'tails', 'domestic', 'catsize']\n",
    "X = df[x_cols].as_matrix()\n",
    "print(type(X))\n",
    "print(X.shape)"
   ]
  },
  {
   "cell_type": "code",
   "execution_count": 40,
   "metadata": {},
   "outputs": [
    {
     "name": "stdout",
     "output_type": "stream",
     "text": [
      "<class 'numpy.ndarray'>\n"
     ]
    },
    {
     "data": {
      "text/plain": [
       "(100,)"
      ]
     },
     "execution_count": 40,
     "metadata": {},
     "output_type": "execute_result"
    }
   ],
   "source": [
    "#assign variable y to seven class numbers;insure numpy array;check shapes match\n",
    "y = df['Class_Number'].values\n",
    "print(type(y))\n",
    "y.shape"
   ]
  },
  {
   "cell_type": "code",
   "execution_count": 41,
   "metadata": {},
   "outputs": [
    {
     "name": "stdout",
     "output_type": "stream",
     "text": [
      "(70, 16) (30, 16) (70,) (30,)\n"
     ]
    }
   ],
   "source": [
    "#split data into a train and test set,create a decision tree classifier object\n",
    "from sklearn.model_selection import train_test_split\n",
    "from sklearn.tree import DecisionTreeClassifier\n",
    "dec_tre = DecisionTreeClassifier()\n",
    "X_train, X_test, y_train, y_test = train_test_split(X,y,test_size = 0.3,random_state=42)\n",
    "#train decision tree classifier\n",
    "dec_tre.fit(X_train,y_train)\n",
    "print(X_train.shape, X_test.shape, y_train.shape, y_test.shape)"
   ]
  },
  {
   "cell_type": "code",
   "execution_count": 42,
   "metadata": {},
   "outputs": [
    {
     "name": "stdout",
     "output_type": "stream",
     "text": [
      "Accuracy: 0.966666666667\n"
     ]
    }
   ],
   "source": [
    "#predict the response for the test dataset and print the decision tree model accuracy\n",
    "from sklearn import metrics\n",
    "y_pred = dec_tre.predict(X_test)\n",
    "print(\"Accuracy:\",metrics.accuracy_score(y_test,y_pred))"
   ]
  },
  {
   "cell_type": "code",
   "execution_count": 43,
   "metadata": {},
   "outputs": [
    {
     "name": "stdout",
     "output_type": "stream",
     "text": [
      "Cross-validation scores: [ 0.96296296  0.96        0.91666667  0.95833333]\n",
      "Average cross-validation score: 0.95\n"
     ]
    }
   ],
   "source": [
    "#perform cross-validation on decision tree model\n",
    "from sklearn.model_selection import cross_val_score\n",
    "from sklearn.feature_selection import SelectFromModel\n",
    "scores = cross_val_score(dec_tre, X, y, cv=4)\n",
    "print(\"Cross-validation scores: {}\".format(scores))\n",
    "print(\"Average cross-validation score: {:.2f}\".format(scores.mean()))"
   ]
  },
  {
   "cell_type": "markdown",
   "metadata": {},
   "source": [
    "### The test accuracy on the decision tree model and the cross-validation score respectively are 0.97 and 0.95. Next, Grid SearchCV will be utilized to tune the hyperparameters."
   ]
  },
  {
   "cell_type": "code",
   "execution_count": 44,
   "metadata": {},
   "outputs": [
    {
     "name": "stdout",
     "output_type": "stream",
     "text": [
      "Hyperparameters currently in use:\n",
      "\n",
      "{'class_weight': None,\n",
      " 'criterion': 'gini',\n",
      " 'max_depth': None,\n",
      " 'max_features': None,\n",
      " 'max_leaf_nodes': None,\n",
      " 'min_impurity_decrease': 0.0,\n",
      " 'min_impurity_split': None,\n",
      " 'min_samples_leaf': 1,\n",
      " 'min_samples_split': 2,\n",
      " 'min_weight_fraction_leaf': 0.0,\n",
      " 'presort': False,\n",
      " 'random_state': None,\n",
      " 'splitter': 'best'}\n"
     ]
    }
   ],
   "source": [
    "#first view all the hyperparameters utlized\n",
    "from pprint import pprint\n",
    "print('Hyperparameters currently in use:\\n')\n",
    "pprint(dec_tre.get_params())"
   ]
  },
  {
   "cell_type": "code",
   "execution_count": 45,
   "metadata": {},
   "outputs": [
    {
     "name": "stdout",
     "output_type": "stream",
     "text": [
      "{'max_depth': 10, 'random_state': 42}\n",
      "0.96\n"
     ]
    }
   ],
   "source": [
    "#perform GridSearchCV to tune the hyperparameters on the decision tree model\n",
    "from sklearn.model_selection import GridSearchCV\n",
    "from warnings import simplefilter\n",
    "simplefilter(action='ignore', category=DeprecationWarning)\n",
    "param_grid = {\n",
    "    'random_state': [1,5,42],\n",
    "    'max_depth': [1,10,100]}\n",
    "dec_tre_cv = GridSearchCV(dec_tre,param_grid,cv=4)\n",
    "dec_tre_cv.fit(X,y)\n",
    "print(dec_tre_cv.best_params_)\n",
    "print(dec_tre_cv.best_score_)"
   ]
  },
  {
   "cell_type": "code",
   "execution_count": 46,
   "metadata": {},
   "outputs": [
    {
     "name": "stdout",
     "output_type": "stream",
     "text": [
      "<class 'numpy.ndarray'>\n",
      "<class 'numpy.ndarray'>\n"
     ]
    },
    {
     "data": {
      "text/plain": [
       "(100,)"
      ]
     },
     "execution_count": 46,
     "metadata": {},
     "output_type": "execute_result"
    }
   ],
   "source": [
    "print(type(X))\n",
    "print(type(y))\n",
    "X.shape\n",
    "y.shape"
   ]
  },
  {
   "cell_type": "markdown",
   "metadata": {},
   "source": [
    "### The tuned hyperparemeters are random_state=42 and max_depth=10 and this improves cv accuracy from 0.95 to 0.96. Next, feature selection will be utilized to make sure the best features are chosen for the decision tree model. "
   ]
  },
  {
   "cell_type": "code",
   "execution_count": 47,
   "metadata": {},
   "outputs": [
    {
     "data": {
      "text/plain": [
       "SelectFromModel(estimator=DecisionTreeClassifier(class_weight=None,\n",
       "                                                 criterion='gini',\n",
       "                                                 max_depth=None,\n",
       "                                                 max_features=None,\n",
       "                                                 max_leaf_nodes=None,\n",
       "                                                 min_impurity_decrease=0.0,\n",
       "                                                 min_impurity_split=None,\n",
       "                                                 min_samples_leaf=1,\n",
       "                                                 min_samples_split=2,\n",
       "                                                 min_weight_fraction_leaf=0.0,\n",
       "                                                 presort=False,\n",
       "                                                 random_state=None,\n",
       "                                                 splitter='best'),\n",
       "                max_features=None, norm_order=1, prefit=False, threshold=0.005)"
      ]
     },
     "execution_count": 47,
     "metadata": {},
     "output_type": "execute_result"
    }
   ],
   "source": [
    "#check if the correct features were selected\n",
    "from sklearn.feature_selection import SelectFromModel\n",
    "sel = SelectFromModel(dec_tre, threshold = 0.005)\n",
    "sel.fit(X_cols,y)"
   ]
  },
  {
   "cell_type": "code",
   "execution_count": 48,
   "metadata": {},
   "outputs": [
    {
     "name": "stdout",
     "output_type": "stream",
     "text": [
      "9\n",
      "Index(['feathers', 'eggs', 'milk', 'airborne', 'aquatic', 'predator',\n",
      "       'backbone', 'fins', 'legs'],\n",
      "      dtype='object')\n"
     ]
    }
   ],
   "source": [
    "#print out the list of selected features from sklearn\n",
    "sel.get_support(indices=True)\n",
    "selected_feat=X_cols.columns[(sel.get_support())]\n",
    "print(len(selected_feat))\n",
    "print(selected_feat)"
   ]
  },
  {
   "cell_type": "markdown",
   "metadata": {},
   "source": [
    "### The 9 best features chosen were: ( 'feathers', 'milk','eggs', 'airborne', 'aquatic', 'predator','breathes', 'fins', 'legs').  This means the features dropped were: (domestic, tails, breathes, venomous, hair, catsize and toothed). "
   ]
  },
  {
   "cell_type": "code",
   "execution_count": 49,
   "metadata": {},
   "outputs": [
    {
     "name": "stdout",
     "output_type": "stream",
     "text": [
      "Decision Tree Classifier Accuracy on original 16 features: 0.966666666667\n",
      "Average Decision Tree cross-validation score on original 16 features: 0.92\n",
      "Decision Tree Accuracy on 9 best selected features: 0.966666666667\n",
      "Average Decision Tree cross-validation score on 9 best selected features: 0.97\n"
     ]
    }
   ],
   "source": [
    "#utilize tuned hyperparameters and previous 16 features to compare accuracy score\n",
    "dec_tre = DecisionTreeClassifier(max_depth=10)\n",
    "X_train, X_test, y_train, y_test = train_test_split(X,y,test_size = 0.3,random_state=42)\n",
    "dec_tre.fit(X_train,y_train)\n",
    "y_pred = dec_tre.predict(X_test)\n",
    "print(\"Decision Tree Classifier Accuracy on original 16 features:\",metrics.accuracy_score(y_test,y_pred))\n",
    "scores = cross_val_score(dec_tre, X, y, cv=4)\n",
    "print(\"Average Decision Tree cross-validation score on original 16 features: {:.2f}\".format(scores.mean()))\n",
    "\n",
    "#utilize the tuned hyperparameters and the selected 9 features to see if the decision tree classifier improves\n",
    "x2_cols = [ 'feathers','milk','eggs','airborne','aquatic', 'predator', 'backbone','fins', 'legs']\n",
    "X2 = df[x2_cols].as_matrix()\n",
    "dec_tre = DecisionTreeClassifier(max_depth=10)\n",
    "X2_train, X2_test, y2_train, y2_test = train_test_split(X2,y,test_size = 0.3,random_state=42)\n",
    "dec_tre.fit(X2_train,y2_train)\n",
    "y2_pred = dec_tre.predict(X2_test)\n",
    "print(\"Decision Tree Accuracy on 9 best selected features:\",metrics.accuracy_score(y2_test,y2_pred))\n",
    "scores = cross_val_score(dec_tre, X2, y, cv=4)\n",
    "print(\"Average Decision Tree cross-validation score on 9 best selected features: {:.2f}\".format(scores.mean()))"
   ]
  },
  {
   "cell_type": "code",
   "execution_count": 50,
   "metadata": {},
   "outputs": [
    {
     "name": "stdout",
     "output_type": "stream",
     "text": [
      "[[13  0  0  0  0  0  0]\n",
      " [ 0  5  0  0  0  0  0]\n",
      " [ 0  0  0  0  1  0  0]\n",
      " [ 0  0  0  4  0  0  0]\n",
      " [ 0  0  0  0  0  0  0]\n",
      " [ 0  0  0  0  0  3  0]\n",
      " [ 0  0  0  0  0  0  4]]\n",
      "              precision    recall  f1-score   support\n",
      "\n",
      "           1       1.00      1.00      1.00        13\n",
      "           2       1.00      1.00      1.00         5\n",
      "           3       0.00      0.00      0.00         1\n",
      "           4       1.00      1.00      1.00         4\n",
      "           5       0.00      0.00      0.00         0\n",
      "           6       1.00      1.00      1.00         3\n",
      "           7       1.00      1.00      1.00         4\n",
      "\n",
      "    accuracy                           0.97        30\n",
      "   macro avg       0.71      0.71      0.71        30\n",
      "weighted avg       0.97      0.97      0.97        30\n",
      "\n"
     ]
    }
   ],
   "source": [
    "#perform confusion matrix on decision tree classifier\n",
    "from sklearn.metrics import confusion_matrix\n",
    "from sklearn.metrics import classification_report\n",
    "dec_tre.fit(X2_train, y2_train)\n",
    "dec_tre_pred = dec_tre.predict(X2_test)\n",
    "conf_matrix_dec_tre = confusion_matrix(y2_test, dec_tre_pred)\n",
    "print(conf_matrix_dec_tre)\n",
    "print(classification_report(y2_test,dec_tre_pred))"
   ]
  },
  {
   "cell_type": "markdown",
   "metadata": {},
   "source": [
    "### When the best features are chosen and the hyperparmeters are tuned, the decision tree model cross-validation score improves. However, the test accuracy score remains the same.   The following classifiers will be utilized next to see if the classification test accuracy can be improved further: Support Vector Machine,Gaussian Naive Bayes, Random Forest and K nearest neighbor."
   ]
  },
  {
   "cell_type": "code",
   "execution_count": 51,
   "metadata": {},
   "outputs": [
    {
     "name": "stdout",
     "output_type": "stream",
     "text": [
      "Test_Accuracy: 0.966666666667\n",
      "[ 0.96296296  0.96        0.91666667  0.95833333]\n",
      "CV_accuracy: 0.949490740741\n"
     ]
    }
   ],
   "source": [
    "#utilize SVM classifier and compare model prediction accuracy \n",
    "from sklearn.svm import SVC\n",
    "X_train, X_test, y_train, y_test = train_test_split(X, y, test_size=0.3,random_state=42)\n",
    "svmc = SVC(kernel='linear')\n",
    "svmc.fit(X_train, y_train)\n",
    "y_pred = svmc.predict(X_test)\n",
    "print(\"Test_Accuracy:\",metrics.accuracy_score(y_test, y_pred))\n",
    "score_svmc = cross_val_score(svmc, X, y,cv=4)\n",
    "print(score_svmc)\n",
    "print(\"CV_accuracy:\", score_svmc.mean())"
   ]
  },
  {
   "cell_type": "code",
   "execution_count": 52,
   "metadata": {},
   "outputs": [
    {
     "name": "stdout",
     "output_type": "stream",
     "text": [
      "[[13  0  0  0  0  0]\n",
      " [ 0  5  0  0  0  0]\n",
      " [ 0  0  0  1  0  0]\n",
      " [ 0  0  0  4  0  0]\n",
      " [ 0  0  0  0  3  0]\n",
      " [ 0  0  0  0  0  4]]\n",
      "              precision    recall  f1-score   support\n",
      "\n",
      "           1       1.00      1.00      1.00        13\n",
      "           2       1.00      1.00      1.00         5\n",
      "           3       0.00      0.00      0.00         1\n",
      "           4       0.80      1.00      0.89         4\n",
      "           6       1.00      1.00      1.00         3\n",
      "           7       1.00      1.00      1.00         4\n",
      "\n",
      "    accuracy                           0.97        30\n",
      "   macro avg       0.80      0.83      0.81        30\n",
      "weighted avg       0.94      0.97      0.95        30\n",
      "\n"
     ]
    }
   ],
   "source": [
    "#calculate the confusion matrix for SVC\n",
    "svmc.fit(X_train, y_train)\n",
    "svmc_pred = svmc.predict(X_test)\n",
    "conf_matrix_svmc = confusion_matrix(y_test, svmc_pred)\n",
    "print(conf_matrix_svmc)\n",
    "print(classification_report(y_test,svmc_pred))"
   ]
  },
  {
   "cell_type": "code",
   "execution_count": 53,
   "metadata": {},
   "outputs": [
    {
     "name": "stdout",
     "output_type": "stream",
     "text": [
      "Accuracy: 0.966666666667\n",
      "[ 0.96296296  0.96        0.91666667  1.        ]\n",
      "CV_accuracy: 0.959907407407\n"
     ]
    }
   ],
   "source": [
    "#import gaussian naive bayes model\n",
    "from sklearn.naive_bayes import GaussianNB\n",
    "gnb = GaussianNB()\n",
    "gnb.fit(X_train,y_train)\n",
    "y_pred = gnb.predict(X_test)\n",
    "print(\"Accuracy:\",metrics.accuracy_score(y_test, y_pred))\n",
    "score_gnb = cross_val_score(gnb, X, y,cv=4)\n",
    "print(score_gnb)\n",
    "print(\"CV_accuracy:\", score_gnb.mean())"
   ]
  },
  {
   "cell_type": "code",
   "execution_count": 54,
   "metadata": {},
   "outputs": [
    {
     "name": "stdout",
     "output_type": "stream",
     "text": [
      "[[13  0  0  0  0  0]\n",
      " [ 0  5  0  0  0  0]\n",
      " [ 0  0  0  1  0  0]\n",
      " [ 0  0  0  4  0  0]\n",
      " [ 0  0  0  0  3  0]\n",
      " [ 0  0  0  0  0  4]]\n",
      "              precision    recall  f1-score   support\n",
      "\n",
      "           1       1.00      1.00      1.00        13\n",
      "           2       1.00      1.00      1.00         5\n",
      "           3       0.00      0.00      0.00         1\n",
      "           4       0.80      1.00      0.89         4\n",
      "           6       1.00      1.00      1.00         3\n",
      "           7       1.00      1.00      1.00         4\n",
      "\n",
      "    accuracy                           0.97        30\n",
      "   macro avg       0.80      0.83      0.81        30\n",
      "weighted avg       0.94      0.97      0.95        30\n",
      "\n"
     ]
    }
   ],
   "source": [
    "#calculate confusion matrix for Gaussian naive bayes\n",
    "gnb.fit(X_train, y_train)\n",
    "gnb_pred = gnb.predict(X_test)\n",
    "conf_matrix_gnb = confusion_matrix(y_test, gnb_pred)\n",
    "print(conf_matrix_gnb)\n",
    "print(classification_report(y_test,gnb_pred))"
   ]
  },
  {
   "cell_type": "code",
   "execution_count": 55,
   "metadata": {},
   "outputs": [
    {
     "name": "stdout",
     "output_type": "stream",
     "text": [
      "Accuracy: 0.966666666667\n",
      "[ 0.96296296  0.96        1.          1.        ]\n",
      "CV_accuracy: 0.980740740741\n"
     ]
    }
   ],
   "source": [
    "#Import Random Forest Model\n",
    "from sklearn.ensemble import RandomForestClassifier\n",
    "X2_train, X2_test, y2_train, y2_test = train_test_split(X2, y, test_size=0.3, random_state=20) \n",
    "rfc=RandomForestClassifier(n_estimators=100)\n",
    "rfc.fit(X2_train,y2_train)\n",
    "y2_pred=rfc.predict(X2_test)\n",
    "print(\"Accuracy:\",metrics.accuracy_score(y2_test, y2_pred))\n",
    "score_rfc = cross_val_score(rfc, X2, y,cv=4)\n",
    "print(score_rfc)\n",
    "print(\"CV_accuracy:\", score_rfc.mean())"
   ]
  },
  {
   "cell_type": "code",
   "execution_count": 56,
   "metadata": {},
   "outputs": [
    {
     "name": "stdout",
     "output_type": "stream",
     "text": [
      "[[13  0  0  0  0  0  0]\n",
      " [ 0  5  0  0  0  0  0]\n",
      " [ 1  0  0  0  0  0  0]\n",
      " [ 0  0  0  4  0  0  0]\n",
      " [ 0  0  0  0  2  0  0]\n",
      " [ 0  0  0  0  0  2  0]\n",
      " [ 0  0  0  0  0  0  3]]\n",
      "              precision    recall  f1-score   support\n",
      "\n",
      "           1       0.93      1.00      0.96        13\n",
      "           2       1.00      1.00      1.00         5\n",
      "           3       0.00      0.00      0.00         1\n",
      "           4       1.00      1.00      1.00         4\n",
      "           5       1.00      1.00      1.00         2\n",
      "           6       1.00      1.00      1.00         2\n",
      "           7       1.00      1.00      1.00         3\n",
      "\n",
      "    accuracy                           0.97        30\n",
      "   macro avg       0.85      0.86      0.85        30\n",
      "weighted avg       0.94      0.97      0.95        30\n",
      "\n"
     ]
    }
   ],
   "source": [
    "#calculate precision and recall for random forest classifier\n",
    "rfc.fit(X2_train, y2_train)\n",
    "rfc_pred = rfc.predict(X2_test)\n",
    "conf_matrix_rfc = confusion_matrix(y2_test, rfc_pred)\n",
    "print(conf_matrix_rfc)\n",
    "print(classification_report(y2_test,rfc_pred))"
   ]
  },
  {
   "cell_type": "code",
   "execution_count": 57,
   "metadata": {},
   "outputs": [
    {
     "name": "stdout",
     "output_type": "stream",
     "text": [
      "knn test accuracy with all 16 feaures is: 0.766666666667\n",
      "Average knn classifier cross-validation score on original 16 features: 0.86\n"
     ]
    }
   ],
   "source": [
    "#import kneighbors classifier\n",
    "from sklearn.neighbors import KNeighborsClassifier\n",
    "knn = KNeighborsClassifier()\n",
    "X_train, X_test, y_train, y_test = train_test_split(X,y,test_size = 0.3,random_state=42)\n",
    "knn.fit(X_train,y_train)\n",
    "y_pred = knn.predict(X_test)\n",
    "print(\"knn test accuracy with all 16 feaures is:\",metrics.accuracy_score(y_test, y_pred))\n",
    "#also check cross validation score\n",
    "scores = cross_val_score(knn,X,y,cv=4,scoring='accuracy')\n",
    "print(\"Average knn classifier cross-validation score on original 16 features: {:.2f}\".format(scores.mean()))"
   ]
  },
  {
   "cell_type": "markdown",
   "metadata": {},
   "source": [
    "### Since there is a large difference(0.76 vs 0.86) between the KNN test accuracy and the knn cross-validation score, this could indicate over-fitting of features.  Therefore, feature selection method as well as optimal k value will be implemented.  "
   ]
  },
  {
   "cell_type": "code",
   "execution_count": 58,
   "metadata": {},
   "outputs": [
    {
     "name": "stdout",
     "output_type": "stream",
     "text": [
      "[0.95990740740740743, 0.93949074074074079, 0.93064814814814822, 0.89171296296296299, 0.86046296296296299, 0.85120370370370368, 0.82111111111111112, 0.78060185185185182, 0.77060185185185182, 0.77060185185185182, 0.76060185185185181, 0.76060185185185181, 0.76060185185185181, 0.76060185185185181, 0.76060185185185181, 0.76060185185185181, 0.76060185185185181, 0.78101851851851845, 0.76101851851851843, 0.7506018518518518, 0.71125000000000005, 0.70083333333333342, 0.70083333333333342, 0.70083333333333342, 0.66263888888888889, 0.66379629629629633, 0.66379629629629633, 0.61171296296296296, 0.60129629629629633, 0.59129629629629632]\n"
     ]
    }
   ],
   "source": [
    "#search for the optimal value for k to improve the knn model\n",
    "k_range = range(1,31)\n",
    "k_scores = []\n",
    "for k in k_range:\n",
    "    knn = KNeighborsClassifier(n_neighbors=k)\n",
    "    scores = cross_val_score(knn,X,y,cv=4,scoring='accuracy')\n",
    "    k_scores.append(scores.mean())\n",
    "print(k_scores)"
   ]
  },
  {
   "cell_type": "code",
   "execution_count": 59,
   "metadata": {},
   "outputs": [
    {
     "data": {
      "text/plain": [
       "Text(0,0.5,'Cross-Validation accuracy')"
      ]
     },
     "execution_count": 59,
     "metadata": {},
     "output_type": "execute_result"
    },
    {
     "data": {
      "image/png": "[encoded data removed]",
      "text/plain": [
       "<Figure size 432x288 with 1 Axes>"
      ]
     },
     "metadata": {},
     "output_type": "display_data"
    }
   ],
   "source": [
    "#plot value of k for KNN vs cross-validation accuracy in order to pick optimum k\n",
    "import matplotlib.pyplot as plt\n",
    "%matplotlib inline\n",
    "plt.plot(k_range,k_scores)\n",
    "plt.xlabel(\"Value of K for KNN\")\n",
    "plt.ylabel(\"Cross-Validation accuracy\")"
   ]
  },
  {
   "cell_type": "code",
   "execution_count": 60,
   "metadata": {},
   "outputs": [
    {
     "name": "stdout",
     "output_type": "stream",
     "text": [
      "knn test accuracy with optimum k value: 0.966666666667\n",
      "knn cross_val_score with optimum k value: 0.959907407407\n"
     ]
    }
   ],
   "source": [
    "#utilize optimum k and compare KNN model with decision tree classifier accuracy;also compare against cross-validation\n",
    "knn = KNeighborsClassifier(n_neighbors=1)\n",
    "X_train, X_test, y_train, y_test = train_test_split(X,y,test_size = 0.3,random_state=42)\n",
    "knn.fit(X_train,y_train)\n",
    "y_pred = knn.predict(X_test)\n",
    "print(\"knn test accuracy with optimum k value:\",metrics.accuracy_score(y_test, y_pred))\n",
    "knn = KNeighborsClassifier(n_neighbors=1)\n",
    "print(\"knn cross_val_score with optimum k value:\",cross_val_score(knn,X,y,cv=4,scoring='accuracy').mean())    "
   ]
  },
  {
   "cell_type": "markdown",
   "metadata": {},
   "source": [
    "### Choosing the best n_neighbor value improves the model from 0.80 to 0.97 and 0.86 to 0.96 on the test set accuracy and cross-validation accuracy respectively.  Chi-squared feature selection method will be implemented to see if choosing the best features improves the KNN model even further."
   ]
  },
  {
   "cell_type": "code",
   "execution_count": 61,
   "metadata": {},
   "outputs": [
    {
     "name": "stdout",
     "output_type": "stream",
     "text": [
      "[ 48.71428571  80.          36.46610169  60.          48.5         29.27777778\n",
      "   5.51048951  37.04166667  18.          17.32911392  17.33653846\n",
      "  61.82352941  81.35087719  16.96666667   3.64102564  20.61806798]\n"
     ]
    }
   ],
   "source": [
    "#utilize subset selection\n",
    "from sklearn.feature_selection import SelectKBest\n",
    "from sklearn.feature_selection import chi2\n",
    "# extract the best features\n",
    "test = SelectKBest(score_func=chi2, k=4)\n",
    "fit = test.fit(X_cols, y)\n",
    "# summarize scores\n",
    "print(fit.scores_)"
   ]
  },
  {
   "cell_type": "markdown",
   "metadata": {},
   "source": [
    "### The highest scored features are:hair, feathers, eggs, milk, airborne, aquatic, toothed,fins, legs,  and catsize.  The Chi-squared method  dropped the following features: domestic, predator, tail, breathes, venomous, and backbone). "
   ]
  },
  {
   "cell_type": "code",
   "execution_count": 62,
   "metadata": {},
   "outputs": [
    {
     "name": "stdout",
     "output_type": "stream",
     "text": [
      "knn test accuracy on the 9 best sci-kit learn selected features: 0.933333333333\n",
      "Average knn cross-validation score on sci-kit learn 9 best selected features: 0.96991\n",
      "knn test accuracy with chi2 features selected: 0.966666666667\n",
      "knn cross_val_score with chi2 features selected: 0.970324074074\n"
     ]
    }
   ],
   "source": [
    "#compare how the model scores with previous sklearn feaures selected\n",
    "knn = KNeighborsClassifier(n_neighbors=1)\n",
    "X2_train, X2_test, y2_train, y2_test = train_test_split(X2,y,test_size = 0.3,random_state=42)\n",
    "knn.fit(X2_train,y2_train)\n",
    "y2_pred = knn.predict(X2_test)\n",
    "print(\"knn test accuracy on the 9 best sci-kit learn selected features:\",metrics.accuracy_score(y2_test,y2_pred))\n",
    "scores = cross_val_score(knn, X2, y, cv=4)\n",
    "print(\"Average knn cross-validation score on sci-kit learn 9 best selected features: {:.5f}\".format(scores.mean()))\n",
    "#compare test and cross validation accuracy with chi square features selected\n",
    "x1_cols = ['hair', 'feathers', 'eggs', 'milk','toothed','fins', 'legs','airborne','aquatic','catsize']\n",
    "X1 = df[x1_cols].as_matrix()\n",
    "knn = KNeighborsClassifier(n_neighbors=1)\n",
    "X1_train, X1_test, y1_train, y1_test = train_test_split(X1,y,test_size = 0.3,random_state=42)\n",
    "knn.fit(X1_train,y1_train)\n",
    "y1_pred = knn.predict(X1_test)\n",
    "print(\"knn test accuracy with chi2 features selected:\",metrics.accuracy_score(y1_test, y1_pred))\n",
    "knn = KNeighborsClassifier(n_neighbors=1)\n",
    "print(\"knn cross_val_score with chi2 features selected:\",cross_val_score(knn,X1,y,cv=4,scoring='accuracy').mean()) "
   ]
  },
  {
   "cell_type": "markdown",
   "metadata": {},
   "source": [
    "### This shows that the Chi-squared feature selection method scored higher than the Scikit-learn feature selection method. Utilizing the optimum k value as well as the optimum features improved the KNN model from a 0.81 test accuracy to a 0.97 test accuracy. It also improved the cross-val score from 0.86 to 0.97.  So far, the test accuracy is the same, 0.97, on all the models and thus confusion matrix will be utilized to see which model performs the best.  "
   ]
  },
  {
   "cell_type": "code",
   "execution_count": 63,
   "metadata": {},
   "outputs": [
    {
     "name": "stdout",
     "output_type": "stream",
     "text": [
      "[[13  0  0  0  0  0]\n",
      " [ 0  5  0  0  0  0]\n",
      " [ 0  0  0  1  0  0]\n",
      " [ 0  0  0  4  0  0]\n",
      " [ 0  0  0  0  3  0]\n",
      " [ 0  0  0  0  0  4]]\n"
     ]
    }
   ],
   "source": [
    "#perform confusion matrix to analyze FP/FN and how well algorithm classifies\n",
    "#first is all features, second is chi squared 10 selected features\n",
    "knn.fit(X1_train, y1_train)\n",
    "knn_pred = knn.predict(X1_test)\n",
    "conf_matrix_knn = confusion_matrix(y1_test, knn_pred)\n",
    "print(conf_matrix_knn)"
   ]
  },
  {
   "cell_type": "code",
   "execution_count": 64,
   "metadata": {},
   "outputs": [
    {
     "name": "stdout",
     "output_type": "stream",
     "text": [
      "              precision    recall  f1-score   support\n",
      "\n",
      "           1       1.00      1.00      1.00        13\n",
      "           2       1.00      1.00      1.00         5\n",
      "           3       0.00      0.00      0.00         1\n",
      "           4       0.80      1.00      0.89         4\n",
      "           6       1.00      1.00      1.00         3\n",
      "           7       1.00      1.00      1.00         4\n",
      "\n",
      "    accuracy                           0.97        30\n",
      "   macro avg       0.80      0.83      0.81        30\n",
      "weighted avg       0.94      0.97      0.95        30\n",
      "\n"
     ]
    }
   ],
   "source": [
    "#need to include confusion matrix for each model;show how precision reduced class 4 so model is not always predicting class 4 correctly.  Also compare not just test accuracy but also precision and recall for all 6 classifiers, also compare f1 which is harmonic mean between precision and recall\n",
    "print(classification_report(y1_test,knn_pred))"
   ]
  },
  {
   "cell_type": "markdown",
   "metadata": {},
   "source": [
    "### The confusion matrices and classification reports show that the decision tree model is performing the best as it has the highest precision, recall and F1 score. "
   ]
  },
  {
   "cell_type": "code",
   "execution_count": 65,
   "metadata": {},
   "outputs": [
    {
     "name": "stderr",
     "output_type": "stream",
     "text": [
      "Using TensorFlow backend.\n"
     ]
    },
    {
     "name": "stdout",
     "output_type": "stream",
     "text": [
      "Epoch 1/50\n",
      "100/100 [==============================] - 0s 3ms/step - loss: 2.0874 - acc: 0.6600\n",
      "Epoch 2/50\n",
      "100/100 [==============================] - 0s 1ms/step - loss: 1.4904 - acc: 0.6300\n",
      "Epoch 3/50\n",
      "100/100 [==============================] - 0s 1ms/step - loss: 1.1960 - acc: 0.6500\n",
      "Epoch 4/50\n",
      "100/100 [==============================] - 0s 1ms/step - loss: 1.0018 - acc: 0.6700\n",
      "Epoch 5/50\n",
      "100/100 [==============================] - 0s 1ms/step - loss: 0.8698 - acc: 0.7000\n",
      "Epoch 6/50\n",
      "100/100 [==============================] - 0s 1ms/step - loss: 0.7725 - acc: 0.7200\n",
      "Epoch 7/50\n",
      "100/100 [==============================] - 0s 1ms/step - loss: 0.6965 - acc: 0.7500\n",
      "Epoch 8/50\n",
      "100/100 [==============================] - 0s 1ms/step - loss: 0.6350 - acc: 0.7600\n",
      "Epoch 9/50\n",
      "100/100 [==============================] - 0s 1ms/step - loss: 0.5843 - acc: 0.7800\n",
      "Epoch 10/50\n",
      "100/100 [==============================] - 0s 1ms/step - loss: 0.5421 - acc: 0.7900\n",
      "Epoch 11/50\n",
      "100/100 [==============================] - 0s 1ms/step - loss: 0.5066 - acc: 0.8000\n",
      "Epoch 12/50\n",
      "100/100 [==============================] - 0s 1ms/step - loss: 0.4764 - acc: 0.8100\n",
      "Epoch 13/50\n",
      "100/100 [==============================] - 0s 1ms/step - loss: 0.4505 - acc: 0.8200\n",
      "Epoch 14/50\n",
      "100/100 [==============================] - 0s 1ms/step - loss: 0.4282 - acc: 0.8200\n",
      "Epoch 15/50\n",
      "100/100 [==============================] - 0s 1ms/step - loss: 0.4086 - acc: 0.8200\n",
      "Epoch 16/50\n",
      "100/100 [==============================] - 0s 1ms/step - loss: 0.3914 - acc: 0.8200\n",
      "Epoch 17/50\n",
      "100/100 [==============================] - 0s 1ms/step - loss: 0.3760 - acc: 0.8200\n",
      "Epoch 18/50\n",
      "100/100 [==============================] - 0s 1ms/step - loss: 0.3622 - acc: 0.8200\n",
      "Epoch 19/50\n",
      "100/100 [==============================] - 0s 1ms/step - loss: 0.3497 - acc: 0.8100\n",
      "Epoch 20/50\n",
      "100/100 [==============================] - 0s 1ms/step - loss: 0.3384 - acc: 0.8100\n",
      "Epoch 21/50\n",
      "100/100 [==============================] - 0s 1ms/step - loss: 0.3279 - acc: 0.8200\n",
      "Epoch 22/50\n",
      "100/100 [==============================] - 0s 1ms/step - loss: 0.3183 - acc: 0.8200\n",
      "Epoch 23/50\n",
      "100/100 [==============================] - 0s 1ms/step - loss: 0.3094 - acc: 0.8200\n",
      "Epoch 24/50\n",
      "100/100 [==============================] - 0s 1ms/step - loss: 0.3011 - acc: 0.8200\n",
      "Epoch 25/50\n",
      "100/100 [==============================] - 0s 1ms/step - loss: 0.2933 - acc: 0.8300\n",
      "Epoch 26/50\n",
      "100/100 [==============================] - 0s 1ms/step - loss: 0.2860 - acc: 0.8300\n",
      "Epoch 27/50\n",
      "100/100 [==============================] - 0s 1ms/step - loss: 0.2791 - acc: 0.8300\n",
      "Epoch 28/50\n",
      "100/100 [==============================] - 0s 1ms/step - loss: 0.2727 - acc: 0.8300\n",
      "Epoch 29/50\n",
      "100/100 [==============================] - 0s 1ms/step - loss: 0.2665 - acc: 0.8300\n",
      "Epoch 30/50\n",
      "100/100 [==============================] - 0s 1ms/step - loss: 0.2608 - acc: 0.8400\n",
      "Epoch 31/50\n",
      "100/100 [==============================] - 0s 1ms/step - loss: 0.2553 - acc: 0.8500\n",
      "Epoch 32/50\n",
      "100/100 [==============================] - 0s 996us/step - loss: 0.2500 - acc: 0.8500\n",
      "Epoch 33/50\n",
      "100/100 [==============================] - 0s 1ms/step - loss: 0.2451 - acc: 0.8500\n",
      "Epoch 34/50\n",
      "100/100 [==============================] - 0s 1ms/step - loss: 0.2403 - acc: 0.8500\n",
      "Epoch 35/50\n",
      "100/100 [==============================] - 0s 1ms/step - loss: 0.2358 - acc: 0.8500\n",
      "Epoch 36/50\n",
      "100/100 [==============================] - 0s 1ms/step - loss: 0.2315 - acc: 0.8500\n",
      "Epoch 37/50\n",
      "100/100 [==============================] - 0s 1ms/step - loss: 0.2274 - acc: 0.8500\n",
      "Epoch 38/50\n",
      "100/100 [==============================] - 0s 1ms/step - loss: 0.2234 - acc: 0.8500\n",
      "Epoch 39/50\n",
      "100/100 [==============================] - 0s 1ms/step - loss: 0.2197 - acc: 0.8500\n",
      "Epoch 40/50\n",
      "100/100 [==============================] - 0s 1ms/step - loss: 0.2161 - acc: 0.8500\n",
      "Epoch 41/50\n",
      "100/100 [==============================] - 0s 1ms/step - loss: 0.2126 - acc: 0.8500\n",
      "Epoch 42/50\n",
      "100/100 [==============================] - 0s 1ms/step - loss: 0.2093 - acc: 0.8500\n",
      "Epoch 43/50\n",
      "100/100 [==============================] - 0s 986us/step - loss: 0.2061 - acc: 0.8500\n",
      "Epoch 44/50\n",
      "100/100 [==============================] - 0s 967us/step - loss: 0.2030 - acc: 0.8500\n",
      "Epoch 45/50\n",
      "100/100 [==============================] - 0s 1ms/step - loss: 0.2001 - acc: 0.8500\n",
      "Epoch 46/50\n",
      "100/100 [==============================] - 0s 1ms/step - loss: 0.1973 - acc: 0.8500\n",
      "Epoch 47/50\n",
      "100/100 [==============================] - 0s 1ms/step - loss: 0.1945 - acc: 0.8500\n",
      "Epoch 48/50\n",
      "100/100 [==============================] - 0s 1ms/step - loss: 0.1919 - acc: 0.8500\n",
      "Epoch 49/50\n",
      "100/100 [==============================] - 0s 1ms/step - loss: 0.1894 - acc: 0.8500\n",
      "Epoch 50/50\n",
      "100/100 [==============================] - 0s 1ms/step - loss: 0.1870 - acc: 0.8500\n",
      "100/100 [==============================] - 0s 414us/step\n",
      "\n",
      "acc: 89.00%\n"
     ]
    }
   ],
   "source": [
    "#import keras sequential model in order to see how deep learning model compares\n",
    "from keras.models import Sequential\n",
    "from keras.layers import Dense\n",
    "from keras.regularizers import l2\n",
    "import numpy\n",
    "from keras.optimizers import SGD\n",
    "numpy.random.seed(7)\n",
    "model = Sequential()\n",
    "model.add(Dense(1,input_dim=16, init='zero', activation='linear'))\n",
    "model.compile(loss='mse', optimizer=SGD(lr=0.01), metrics=['accuracy'])\n",
    "model.fit(X, y, epochs=50, batch_size=1,shuffle=False)\n",
    "scores = model.evaluate(X, y)\n",
    "print(\"\\n%s: %.2f%%\" % (model.metrics_names[1], scores[1]*100))"
   ]
  },
  {
   "cell_type": "markdown",
   "metadata": {},
   "source": [
    "### The keras sequential model did well at almost 90% but next we will utilize a single layer perceptron tensorflow ANN model to see if test accuracy improves further. One hot encoding will be implemented since the dataset values are categorical and this way there can be a binarization of all of the features.  "
   ]
  },
  {
   "cell_type": "code",
   "execution_count": 66,
   "metadata": {},
   "outputs": [],
   "source": [
    "#import packages\n",
    "import tensorflow as tf"
   ]
  },
  {
   "cell_type": "code",
   "execution_count": 67,
   "metadata": {},
   "outputs": [
    {
     "name": "stdout",
     "output_type": "stream",
     "text": [
      "(100, 17)\n"
     ]
    }
   ],
   "source": [
    "#utilize df1 dataframe, create new df12 in which feature 'venomous' is dropped \n",
    "#venomous dropped based on previous data exploration and visualizations\n",
    "df1 = df1[df1.animal_name != 'girl']\n",
    "df12 = df1.drop(['venomous'],axis=1)\n",
    "df12.shape\n",
    "print(df12.shape)"
   ]
  },
  {
   "cell_type": "code",
   "execution_count": 68,
   "metadata": {},
   "outputs": [
    {
     "name": "stdout",
     "output_type": "stream",
     "text": [
      "  animal_name  hair  feathers  eggs  milk  airborne  aquatic  predator  \\\n",
      "0    aardvark     1         0     0     1         0        0         1   \n",
      "1    antelope     1         0     0     1         0        0         0   \n",
      "2        bass     0         0     1     0         0        1         1   \n",
      "3        bear     1         0     0     1         0        0         1   \n",
      "4        boar     1         0     0     1         0        0         1   \n",
      "\n",
      "   toothed  backbone  breathes  fins  legs  tails  domestic  catsize  \n",
      "0        1         1         1     0     4      0         0        1  \n",
      "1        1         1         1     0     4      1         0        1  \n",
      "2        1         1         0     1     0      1         0        0  \n",
      "3        1         1         1     0     4      0         0        1  \n",
      "4        1         1         1     0     4      1         0        1  \n",
      "   Class_Number\n",
      "0             1\n",
      "1             1\n",
      "2             4\n",
      "3             1\n",
      "4             1\n"
     ]
    }
   ],
   "source": [
    "#create variable for features and target\n",
    "X5 = df12.iloc[:, 0:16]\n",
    "print(X5.head())\n",
    "y5 = df12.iloc[0:, -1:]\n",
    "print(y5.head())"
   ]
  },
  {
   "cell_type": "code",
   "execution_count": 69,
   "metadata": {},
   "outputs": [
    {
     "name": "stdout",
     "output_type": "stream",
     "text": [
      "(80, 16)\n",
      "(20, 16)\n"
     ]
    }
   ],
   "source": [
    "#set aside 20% for test data, 80% for train\n",
    "train_x5,test_x5,train_y5,test_y5 = train_test_split(X5,y5,test_size=0.2,random_state=42,stratify=y5)\n",
    "print(train_x5.shape)\n",
    "print(test_x5.shape)"
   ]
  },
  {
   "cell_type": "code",
   "execution_count": 70,
   "metadata": {},
   "outputs": [
    {
     "name": "stdout",
     "output_type": "stream",
     "text": [
      "(80, 15)\n",
      "(20, 15)\n",
      "(20,)\n"
     ]
    }
   ],
   "source": [
    "#create variable for train and test;check that shapes match\n",
    "train_name5 = train_x5['animal_name']\n",
    "test_name5 = test_x5['animal_name']\n",
    "train_x5 = train_x5.iloc[:,1:16]\n",
    "test_x5 = test_x5.iloc[:,1:16]\n",
    "print(train_x5.shape)\n",
    "print(test_x5.shape)\n",
    "print(test_name5.shape)"
   ]
  },
  {
   "cell_type": "code",
   "execution_count": 72,
   "metadata": {},
   "outputs": [],
   "source": [
    "#create placeholders based on shape of columns\n",
    "X6 = tf.placeholder(tf.float32, [None,15]) #shape is 15 columns \n",
    "y6 = tf.placeholder(tf.int32, [None, 1]) #shape is 1 column\n",
    "y6_one_hot = tf.one_hot(y6, 7)  \n",
    "y6_one_hot = tf.reshape(y6_one_hot, [-1, 7])\n",
    "#set model weights\n",
    "Weight6 = tf.Variable(tf.random_normal([15, 7],seed=0), name='weight')\n",
    "Bias6 = tf.Variable(tf.random_normal([7],seed=0), name='bias')\n",
    "#construct model\n",
    "model6 = tf.matmul(X6, Weight6) + Bias6\n",
    "hypothesis6 = tf.nn.softmax(model6)\n",
    "cost6 = tf.nn.softmax_cross_entropy_with_logits_v2(logits=model6, labels=y6_one_hot)\n",
    "cost16 = tf.reduce_mean(cost6)\n",
    "train6 = tf.train.GradientDescentOptimizer(learning_rate=0.04).minimize(cost16)\n",
    "prediction6 = tf.argmax(hypothesis6, 1)\n",
    "true6 = tf.equal(prediction6, tf.argmax(y6_one_hot, 1))\n",
    "accuracy6 = tf.reduce_mean(tf.cast(true6, tf.float32))"
   ]
  },
  {
   "cell_type": "code",
   "execution_count": 73,
   "metadata": {},
   "outputs": [
    {
     "name": "stdout",
     "output_type": "stream",
     "text": [
      "Step:     0\tLoss: 4.101\tAccuracy: 23.75%\n",
      "Step:  1000\tLoss: 0.210\tAccuracy: 86.25%\n",
      "Step:  2000\tLoss: 0.122\tAccuracy: 87.50%\n",
      "Step:  3000\tLoss: 0.086\tAccuracy: 87.50%\n",
      "Step:  4000\tLoss: 0.067\tAccuracy: 90.00%\n",
      "Step:  5000\tLoss: 0.056\tAccuracy: 90.00%\n",
      "Step:  6000\tLoss: 0.049\tAccuracy: 90.00%\n",
      "Step:  7000\tLoss: 0.043\tAccuracy: 90.00%\n",
      "Step:  8000\tLoss: 0.039\tAccuracy: 90.00%\n",
      "Step:  9000\tLoss: 0.036\tAccuracy: 90.00%\n",
      "Step: 10000\tLoss: 0.033\tAccuracy: 90.00%\n",
      "Model Prediction = 0.9\n",
      "Test Prediction = 0.9\n"
     ]
    }
   ],
   "source": [
    "#utilize ANN model,take a look at loss\n",
    "with tf.Session() as session:\n",
    "    session.run(tf.global_variables_initializer())\n",
    "    for step6 in range(10001):\n",
    "        session.run(train6, feed_dict={X6: train_x5, y6: train_y5})\n",
    "        if step6 % 1000 == 0:\n",
    "            loss6, acc6 = session.run([cost16, accuracy6], feed_dict={X6: train_x5, y6: train_y5})\n",
    "            print(\"Step: {:5}\\tLoss: {:.3f}\\tAccuracy: {:.2%}\".format(step6, loss6, acc6))\n",
    "            \n",
    "    train_acc6 = session.run(accuracy6, feed_dict={X6: train_x5, y6: train_y5})\n",
    "    test_acc6,test_predict6,test_correct6 = session.run([accuracy6,prediction6,true6], feed_dict={X6: test_x5, y6: test_y5})\n",
    "    print(\"Model Prediction =\", train_acc6)\n",
    "    print(\"Test Prediction =\", test_acc6)"
   ]
  },
  {
   "cell_type": "code",
   "execution_count": 74,
   "metadata": {},
   "outputs": [
    {
     "data": {
      "text/html": [
       "<div>\n",
       "<style scoped>\n",
       "    .dataframe tbody tr th:only-of-type {\n",
       "        vertical-align: middle;\n",
       "    }\n",
       "\n",
       "    .dataframe tbody tr th {\n",
       "        vertical-align: top;\n",
       "    }\n",
       "\n",
       "    .dataframe thead th {\n",
       "        text-align: right;\n",
       "    }\n",
       "</style>\n",
       "<table border=\"1\" class=\"dataframe\">\n",
       "  <thead>\n",
       "    <tr style=\"text-align: right;\">\n",
       "      <th></th>\n",
       "      <th>Animal</th>\n",
       "      <th>Predicted_Class_Type</th>\n",
       "      <th>Actual_Class_Type</th>\n",
       "      <th>Accuracy</th>\n",
       "    </tr>\n",
       "  </thead>\n",
       "  <tbody>\n",
       "    <tr>\n",
       "      <th>43</th>\n",
       "      <td>lark</td>\n",
       "      <td>2</td>\n",
       "      <td>2</td>\n",
       "      <td>True</td>\n",
       "    </tr>\n",
       "    <tr>\n",
       "      <th>22</th>\n",
       "      <td>elephant</td>\n",
       "      <td>1</td>\n",
       "      <td>1</td>\n",
       "      <td>True</td>\n",
       "    </tr>\n",
       "    <tr>\n",
       "      <th>60</th>\n",
       "      <td>pike</td>\n",
       "      <td>4</td>\n",
       "      <td>4</td>\n",
       "      <td>True</td>\n",
       "    </tr>\n",
       "    <tr>\n",
       "      <th>66</th>\n",
       "      <td>porpoise</td>\n",
       "      <td>1</td>\n",
       "      <td>1</td>\n",
       "      <td>True</td>\n",
       "    </tr>\n",
       "    <tr>\n",
       "      <th>48</th>\n",
       "      <td>mink</td>\n",
       "      <td>1</td>\n",
       "      <td>1</td>\n",
       "      <td>True</td>\n",
       "    </tr>\n",
       "    <tr>\n",
       "      <th>89</th>\n",
       "      <td>toad</td>\n",
       "      <td>5</td>\n",
       "      <td>5</td>\n",
       "      <td>True</td>\n",
       "    </tr>\n",
       "    <tr>\n",
       "      <th>87</th>\n",
       "      <td>swan</td>\n",
       "      <td>2</td>\n",
       "      <td>2</td>\n",
       "      <td>True</td>\n",
       "    </tr>\n",
       "    <tr>\n",
       "      <th>10</th>\n",
       "      <td>cheetah</td>\n",
       "      <td>1</td>\n",
       "      <td>1</td>\n",
       "      <td>True</td>\n",
       "    </tr>\n",
       "    <tr>\n",
       "      <th>14</th>\n",
       "      <td>crab</td>\n",
       "      <td>5</td>\n",
       "      <td>7</td>\n",
       "      <td>False</td>\n",
       "    </tr>\n",
       "    <tr>\n",
       "      <th>50</th>\n",
       "      <td>mongoose</td>\n",
       "      <td>1</td>\n",
       "      <td>1</td>\n",
       "      <td>True</td>\n",
       "    </tr>\n",
       "    <tr>\n",
       "      <th>80</th>\n",
       "      <td>slowworm</td>\n",
       "      <td>3</td>\n",
       "      <td>3</td>\n",
       "      <td>True</td>\n",
       "    </tr>\n",
       "    <tr>\n",
       "      <th>45</th>\n",
       "      <td>lion</td>\n",
       "      <td>1</td>\n",
       "      <td>1</td>\n",
       "      <td>True</td>\n",
       "    </tr>\n",
       "    <tr>\n",
       "      <th>7</th>\n",
       "      <td>carp</td>\n",
       "      <td>4</td>\n",
       "      <td>4</td>\n",
       "      <td>True</td>\n",
       "    </tr>\n",
       "    <tr>\n",
       "      <th>12</th>\n",
       "      <td>chub</td>\n",
       "      <td>4</td>\n",
       "      <td>4</td>\n",
       "      <td>True</td>\n",
       "    </tr>\n",
       "    <tr>\n",
       "      <th>53</th>\n",
       "      <td>octopus</td>\n",
       "      <td>1</td>\n",
       "      <td>7</td>\n",
       "      <td>False</td>\n",
       "    </tr>\n",
       "    <tr>\n",
       "      <th>21</th>\n",
       "      <td>duck</td>\n",
       "      <td>2</td>\n",
       "      <td>2</td>\n",
       "      <td>True</td>\n",
       "    </tr>\n",
       "    <tr>\n",
       "      <th>51</th>\n",
       "      <td>moth</td>\n",
       "      <td>6</td>\n",
       "      <td>6</td>\n",
       "      <td>True</td>\n",
       "    </tr>\n",
       "    <tr>\n",
       "      <th>74</th>\n",
       "      <td>seal</td>\n",
       "      <td>1</td>\n",
       "      <td>1</td>\n",
       "      <td>True</td>\n",
       "    </tr>\n",
       "    <tr>\n",
       "      <th>32</th>\n",
       "      <td>gorilla</td>\n",
       "      <td>1</td>\n",
       "      <td>1</td>\n",
       "      <td>True</td>\n",
       "    </tr>\n",
       "    <tr>\n",
       "      <th>37</th>\n",
       "      <td>hawk</td>\n",
       "      <td>2</td>\n",
       "      <td>2</td>\n",
       "      <td>True</td>\n",
       "    </tr>\n",
       "  </tbody>\n",
       "</table>\n",
       "</div>"
      ],
      "text/plain": [
       "      Animal  Predicted_Class_Type  Actual_Class_Type  Accuracy\n",
       "43      lark                     2                  2      True\n",
       "22  elephant                     1                  1      True\n",
       "60      pike                     4                  4      True\n",
       "66  porpoise                     1                  1      True\n",
       "48      mink                     1                  1      True\n",
       "89      toad                     5                  5      True\n",
       "87      swan                     2                  2      True\n",
       "10   cheetah                     1                  1      True\n",
       "14      crab                     5                  7     False\n",
       "50  mongoose                     1                  1      True\n",
       "80  slowworm                     3                  3      True\n",
       "45      lion                     1                  1      True\n",
       "7       carp                     4                  4      True\n",
       "12      chub                     4                  4      True\n",
       "53   octopus                     1                  7     False\n",
       "21      duck                     2                  2      True\n",
       "51      moth                     6                  6      True\n",
       "74      seal                     1                  1      True\n",
       "32   gorilla                     1                  1      True\n",
       "37      hawk                     2                  2      True"
      ]
     },
     "execution_count": 74,
     "metadata": {},
     "output_type": "execute_result"
    }
   ],
   "source": [
    "result6 = pd.DataFrame()\n",
    "result6['Animal'] = test_name5\n",
    "result6['Predicted_Class_Type'] = test_predict6\n",
    "result6['Actual_Class_Type'] = test_y5\n",
    "result6['Accuracy'] = test_correct6\n",
    "result6"
   ]
  },
  {
   "cell_type": "markdown",
   "metadata": {},
   "source": [
    "### Even though the tensorflow ANN test model scored well at 90%, removing the attribute venomous made it difficult for the deep learning model to classify class 7(invertebrates). Therefore, venomous will not be removed from the ANN model and the model will be re-tested.  "
   ]
  },
  {
   "cell_type": "code",
   "execution_count": 75,
   "metadata": {},
   "outputs": [
    {
     "data": {
      "text/plain": [
       "(100, 17)"
      ]
     },
     "execution_count": 75,
     "metadata": {},
     "output_type": "execute_result"
    }
   ],
   "source": [
    "#utilize df1 dataframe, create new df11 in which feature 'domestic' is dropped\n",
    "#domestic is dropped based on previous data exploration and visualizations\n",
    "df1 = df1[df1.animal_name != 'girl']\n",
    "df11 = df1.drop(['domestic'],axis=1)\n",
    "df11.shape"
   ]
  },
  {
   "cell_type": "code",
   "execution_count": 76,
   "metadata": {},
   "outputs": [
    {
     "name": "stdout",
     "output_type": "stream",
     "text": [
      "  animal_name  hair  feathers  eggs  milk  airborne  aquatic  predator  \\\n",
      "0    aardvark     1         0     0     1         0        0         1   \n",
      "1    antelope     1         0     0     1         0        0         0   \n",
      "2        bass     0         0     1     0         0        1         1   \n",
      "3        bear     1         0     0     1         0        0         1   \n",
      "4        boar     1         0     0     1         0        0         1   \n",
      "\n",
      "   toothed  backbone  breathes  venomous  fins  legs  tails  catsize  \n",
      "0        1         1         1         0     0     4      0        1  \n",
      "1        1         1         1         0     0     4      1        1  \n",
      "2        1         1         0         0     1     0      1        0  \n",
      "3        1         1         1         0     0     4      0        1  \n",
      "4        1         1         1         0     0     4      1        1  \n",
      "   Class_Number\n",
      "0             1\n",
      "1             1\n",
      "2             4\n",
      "3             1\n",
      "4             1\n",
      "<class 'pandas.core.frame.DataFrame'>\n",
      "<class 'pandas.core.frame.DataFrame'>\n"
     ]
    }
   ],
   "source": [
    "#create variables for features and target\n",
    "X3 = df11.iloc[:, 0:16]\n",
    "print(X3.head())\n",
    "y3 = df11.iloc[0:, -1:]\n",
    "print(y3.head())\n",
    "print(type(X3))\n",
    "print(type(y3))"
   ]
  },
  {
   "cell_type": "code",
   "execution_count": 77,
   "metadata": {},
   "outputs": [
    {
     "name": "stdout",
     "output_type": "stream",
     "text": [
      "(80, 16)\n",
      "(20, 16)\n"
     ]
    }
   ],
   "source": [
    "#create train test split with 20 percent test size\n",
    "train_x,test_x,train_y,test_y = train_test_split(X3,y3,test_size=0.2,random_state=42,stratify=y3)\n",
    "print(train_x.shape)\n",
    "print(test_x.shape)"
   ]
  },
  {
   "cell_type": "code",
   "execution_count": 78,
   "metadata": {},
   "outputs": [
    {
     "name": "stdout",
     "output_type": "stream",
     "text": [
      "(80, 15)\n",
      "(20, 15)\n",
      "(20,)\n"
     ]
    }
   ],
   "source": [
    "#check that shapes match\n",
    "train_name = train_x['animal_name']\n",
    "test_name = test_x['animal_name']\n",
    "train_x = train_x.iloc[:,1:16]\n",
    "test_x = test_x.iloc[:,1:16]\n",
    "print(train_x.shape)\n",
    "print(test_x.shape)\n",
    "print(test_name.shape)"
   ]
  },
  {
   "cell_type": "code",
   "execution_count": 79,
   "metadata": {},
   "outputs": [],
   "source": [
    "#create placeholders based on column size\n",
    "X4 = tf.placeholder(tf.float32, [None,15]) #shape is 15 columns \n",
    "y4 = tf.placeholder(tf.int32, [None, 1]) #shape is 1 column\n",
    "y4_one_hot = tf.one_hot(y4, 7)  \n",
    "y4_one_hot = tf.reshape(y4_one_hot, [-1, 7])"
   ]
  },
  {
   "cell_type": "code",
   "execution_count": 80,
   "metadata": {},
   "outputs": [],
   "source": [
    "#set model weights; create model eqn similar to slope of line \n",
    "Weight = tf.Variable(tf.random_normal([15, 7],seed=0), name='weight')\n",
    "Bias = tf.Variable(tf.random_normal([7],seed=0), name='bias')\n",
    "#construct model\n",
    "model = tf.matmul(X4, Weight) + Bias"
   ]
  },
  {
   "cell_type": "code",
   "execution_count": 81,
   "metadata": {},
   "outputs": [],
   "source": [
    "'''Since this is a multiclassification problem, softmax function instead of \n",
    "sigmoid function will be used to calculate the probabilities of each target\n",
    "class over all the possible target classes'''\n",
    "hypothesis = tf.nn.softmax(model)\n",
    "cost = tf.nn.softmax_cross_entropy_with_logits_v2(logits=model, labels=y4_one_hot)\n",
    "cost1 = tf.reduce_mean(cost)"
   ]
  },
  {
   "cell_type": "code",
   "execution_count": 82,
   "metadata": {},
   "outputs": [],
   "source": [
    "'''Use the gradient descent optimizer to get the steepest decline in the value\n",
    "of the loss function where the learning rate is the size of the step heading \n",
    "towards the minima'''\n",
    "train = tf.train.GradientDescentOptimizer(learning_rate=0.04).minimize(cost1)"
   ]
  },
  {
   "cell_type": "code",
   "execution_count": 83,
   "metadata": {},
   "outputs": [],
   "source": [
    "'''Use argmax function to find the argument at which the function is at\n",
    "its maximum'''\n",
    "prediction = tf.argmax(hypothesis, 1)\n",
    "true = tf.equal(prediction, tf.argmax(y4_one_hot, 1))\n",
    "accuracy = tf.reduce_mean(tf.cast(true, tf.float32))"
   ]
  },
  {
   "cell_type": "code",
   "execution_count": 84,
   "metadata": {},
   "outputs": [
    {
     "name": "stdout",
     "output_type": "stream",
     "text": [
      "Step:     0\tLoss: 3.287\tAccuracy: 30.00%\n",
      "Step:  1000\tLoss: 0.177\tAccuracy: 83.75%\n",
      "Step:  2000\tLoss: 0.103\tAccuracy: 87.50%\n",
      "Step:  3000\tLoss: 0.073\tAccuracy: 88.75%\n",
      "Step:  4000\tLoss: 0.058\tAccuracy: 90.00%\n",
      "Step:  5000\tLoss: 0.049\tAccuracy: 90.00%\n",
      "Step:  6000\tLoss: 0.043\tAccuracy: 90.00%\n",
      "Step:  7000\tLoss: 0.038\tAccuracy: 90.00%\n",
      "Step:  8000\tLoss: 0.035\tAccuracy: 90.00%\n",
      "Step:  9000\tLoss: 0.032\tAccuracy: 90.00%\n",
      "Step: 10000\tLoss: 0.030\tAccuracy: 90.00%\n",
      "Model Prediction = 0.9\n",
      "Test Prediction = 0.95\n"
     ]
    }
   ],
   "source": [
    "#take a look at ANN model accuracy and loss metrics\n",
    "with tf.Session() as session:\n",
    "    session.run(tf.global_variables_initializer())\n",
    "    for step in range(10001):\n",
    "        session.run(train, feed_dict={X4: train_x, y4: train_y})\n",
    "        if step % 1000 == 0:\n",
    "            loss, acc = session.run([cost1, accuracy], feed_dict={X4: train_x, y4: train_y})\n",
    "            print(\"Step: {:5}\\tLoss: {:.3f}\\tAccuracy: {:.2%}\".format(step, loss, acc))\n",
    "            \n",
    "    train_acc = session.run(accuracy, feed_dict={X4: train_x, y4: train_y})\n",
    "    test_acc,test_predict,test_correct = session.run([accuracy,prediction,true], feed_dict={X4: test_x, y4: test_y})\n",
    "    print(\"Model Prediction =\", train_acc)\n",
    "    print(\"Test Prediction =\", test_acc)"
   ]
  },
  {
   "cell_type": "code",
   "execution_count": 85,
   "metadata": {},
   "outputs": [
    {
     "data": {
      "text/html": [
       "<div>\n",
       "<style scoped>\n",
       "    .dataframe tbody tr th:only-of-type {\n",
       "        vertical-align: middle;\n",
       "    }\n",
       "\n",
       "    .dataframe tbody tr th {\n",
       "        vertical-align: top;\n",
       "    }\n",
       "\n",
       "    .dataframe thead th {\n",
       "        text-align: right;\n",
       "    }\n",
       "</style>\n",
       "<table border=\"1\" class=\"dataframe\">\n",
       "  <thead>\n",
       "    <tr style=\"text-align: right;\">\n",
       "      <th></th>\n",
       "      <th>Animal</th>\n",
       "      <th>Predicted_Class_Type</th>\n",
       "      <th>Actual_Class_Type</th>\n",
       "      <th>Accuracy</th>\n",
       "    </tr>\n",
       "  </thead>\n",
       "  <tbody>\n",
       "    <tr>\n",
       "      <th>43</th>\n",
       "      <td>lark</td>\n",
       "      <td>2</td>\n",
       "      <td>2</td>\n",
       "      <td>True</td>\n",
       "    </tr>\n",
       "    <tr>\n",
       "      <th>22</th>\n",
       "      <td>elephant</td>\n",
       "      <td>1</td>\n",
       "      <td>1</td>\n",
       "      <td>True</td>\n",
       "    </tr>\n",
       "    <tr>\n",
       "      <th>60</th>\n",
       "      <td>pike</td>\n",
       "      <td>4</td>\n",
       "      <td>4</td>\n",
       "      <td>True</td>\n",
       "    </tr>\n",
       "    <tr>\n",
       "      <th>66</th>\n",
       "      <td>porpoise</td>\n",
       "      <td>1</td>\n",
       "      <td>1</td>\n",
       "      <td>True</td>\n",
       "    </tr>\n",
       "    <tr>\n",
       "      <th>48</th>\n",
       "      <td>mink</td>\n",
       "      <td>1</td>\n",
       "      <td>1</td>\n",
       "      <td>True</td>\n",
       "    </tr>\n",
       "    <tr>\n",
       "      <th>89</th>\n",
       "      <td>toad</td>\n",
       "      <td>5</td>\n",
       "      <td>5</td>\n",
       "      <td>True</td>\n",
       "    </tr>\n",
       "    <tr>\n",
       "      <th>87</th>\n",
       "      <td>swan</td>\n",
       "      <td>2</td>\n",
       "      <td>2</td>\n",
       "      <td>True</td>\n",
       "    </tr>\n",
       "    <tr>\n",
       "      <th>10</th>\n",
       "      <td>cheetah</td>\n",
       "      <td>1</td>\n",
       "      <td>1</td>\n",
       "      <td>True</td>\n",
       "    </tr>\n",
       "    <tr>\n",
       "      <th>14</th>\n",
       "      <td>crab</td>\n",
       "      <td>5</td>\n",
       "      <td>7</td>\n",
       "      <td>False</td>\n",
       "    </tr>\n",
       "    <tr>\n",
       "      <th>50</th>\n",
       "      <td>mongoose</td>\n",
       "      <td>1</td>\n",
       "      <td>1</td>\n",
       "      <td>True</td>\n",
       "    </tr>\n",
       "    <tr>\n",
       "      <th>80</th>\n",
       "      <td>slowworm</td>\n",
       "      <td>3</td>\n",
       "      <td>3</td>\n",
       "      <td>True</td>\n",
       "    </tr>\n",
       "    <tr>\n",
       "      <th>45</th>\n",
       "      <td>lion</td>\n",
       "      <td>1</td>\n",
       "      <td>1</td>\n",
       "      <td>True</td>\n",
       "    </tr>\n",
       "    <tr>\n",
       "      <th>7</th>\n",
       "      <td>carp</td>\n",
       "      <td>4</td>\n",
       "      <td>4</td>\n",
       "      <td>True</td>\n",
       "    </tr>\n",
       "    <tr>\n",
       "      <th>12</th>\n",
       "      <td>chub</td>\n",
       "      <td>4</td>\n",
       "      <td>4</td>\n",
       "      <td>True</td>\n",
       "    </tr>\n",
       "    <tr>\n",
       "      <th>53</th>\n",
       "      <td>octopus</td>\n",
       "      <td>0</td>\n",
       "      <td>7</td>\n",
       "      <td>True</td>\n",
       "    </tr>\n",
       "    <tr>\n",
       "      <th>21</th>\n",
       "      <td>duck</td>\n",
       "      <td>2</td>\n",
       "      <td>2</td>\n",
       "      <td>True</td>\n",
       "    </tr>\n",
       "    <tr>\n",
       "      <th>51</th>\n",
       "      <td>moth</td>\n",
       "      <td>6</td>\n",
       "      <td>6</td>\n",
       "      <td>True</td>\n",
       "    </tr>\n",
       "    <tr>\n",
       "      <th>74</th>\n",
       "      <td>seal</td>\n",
       "      <td>1</td>\n",
       "      <td>1</td>\n",
       "      <td>True</td>\n",
       "    </tr>\n",
       "    <tr>\n",
       "      <th>32</th>\n",
       "      <td>gorilla</td>\n",
       "      <td>1</td>\n",
       "      <td>1</td>\n",
       "      <td>True</td>\n",
       "    </tr>\n",
       "    <tr>\n",
       "      <th>37</th>\n",
       "      <td>hawk</td>\n",
       "      <td>2</td>\n",
       "      <td>2</td>\n",
       "      <td>True</td>\n",
       "    </tr>\n",
       "  </tbody>\n",
       "</table>\n",
       "</div>"
      ],
      "text/plain": [
       "      Animal  Predicted_Class_Type  Actual_Class_Type  Accuracy\n",
       "43      lark                     2                  2      True\n",
       "22  elephant                     1                  1      True\n",
       "60      pike                     4                  4      True\n",
       "66  porpoise                     1                  1      True\n",
       "48      mink                     1                  1      True\n",
       "89      toad                     5                  5      True\n",
       "87      swan                     2                  2      True\n",
       "10   cheetah                     1                  1      True\n",
       "14      crab                     5                  7     False\n",
       "50  mongoose                     1                  1      True\n",
       "80  slowworm                     3                  3      True\n",
       "45      lion                     1                  1      True\n",
       "7       carp                     4                  4      True\n",
       "12      chub                     4                  4      True\n",
       "53   octopus                     0                  7      True\n",
       "21      duck                     2                  2      True\n",
       "51      moth                     6                  6      True\n",
       "74      seal                     1                  1      True\n",
       "32   gorilla                     1                  1      True\n",
       "37      hawk                     2                  2      True"
      ]
     },
     "execution_count": 85,
     "metadata": {},
     "output_type": "execute_result"
    }
   ],
   "source": [
    "#print results to look for any trends\n",
    "result = pd.DataFrame()\n",
    "result['Animal'] = test_name\n",
    "result['Predicted_Class_Type'] = test_predict\n",
    "result['Actual_Class_Type'] = test_y\n",
    "result['Accuracy'] = test_correct\n",
    "result"
   ]
  },
  {
   "cell_type": "markdown",
   "metadata": {},
   "source": [
    "### Even though the tensorflow model did well at 95% test accuracy, the Decision Tree Classifier, at 97%, gave the best overall test accuracy, precision, recall and F1 score for animal classification. The deep learning models gave a lot of valuable info about the loss evaluation metrics. Namely, the loss metrics showed that the ANN model had difficulty classifying class number 7(invertebrates).  This could be due to a combination of there being only 10 animals in class number 7 as well as due to the data exploration and visualization findings showing that backbone was not the strongest predictor of animal class.  The deep learning models' evaluation metrics also showed that individually dropping the features of domestic, aquatic or tail did not change the test accuracy even though dropping any one of the other attributes decreased the model's accuracy.  This was an interesting finding as it matched our earlier data exploration and visualization observations that those three attributes were weak predictors of animal class.  This project was unique in that it had a multi-class classification target and an imbalanced dataset which affected accuracy. However, tuning the hyperparameters in the models and choosing the best algorithm surmounted the hurdles of the dataset successfully. "
   ]
  },
  {
   "cell_type": "code",
   "execution_count": null,
   "metadata": {},
   "outputs": [],
   "source": []
  }
 ],
 "metadata": {
  "kernelspec": {
   "display_name": "Python 3",
   "language": "python",
   "name": "python3"
  },
  "language_info": {
   "codemirror_mode": {
    "name": "ipython",
    "version": 3
   },
   "file_extension": ".py",
   "mimetype": "text/x-python",
   "name": "python",
   "nbconvert_exporter": "python",
   "pygments_lexer": "ipython3",
   "version": "3.6.5"
  }
 },
 "nbformat": 4,
 "nbformat_minor": 2
}
